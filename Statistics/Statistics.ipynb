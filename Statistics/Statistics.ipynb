{
 "cells": [
  {
   "cell_type": "code",
   "execution_count": 4,
   "id": "a0514a85-a323-4e00-ab8e-af8c51509a4b",
   "metadata": {
    "execution": {
     "iopub.execute_input": "2023-10-31T02:50:43.737935Z",
     "iopub.status.busy": "2023-10-31T02:50:43.737193Z",
     "iopub.status.idle": "2023-10-31T02:50:43.748455Z",
     "shell.execute_reply": "2023-10-31T02:50:43.746206Z",
     "shell.execute_reply.started": "2023-10-31T02:50:43.737869Z"
    },
    "tags": []
   },
   "outputs": [],
   "source": [
    "# Import Libraries\n",
    "import scipy.stats as stats\n",
    "import itertools\n",
    "import numpy as np\n",
    "import matplotlib.pyplot as plt\n",
    "import math"
   ]
  },
  {
   "cell_type": "markdown",
   "id": "b273ea01-95b9-4dea-906f-d6afe4d72e55",
   "metadata": {},
   "source": [
    "# Probability"
   ]
  },
  {
   "cell_type": "markdown",
   "id": "b1dabd9f-9561-45b0-b1c7-725b57514013",
   "metadata": {},
   "source": [
    "The use of probability to measure uncertainty and variability dates back hundreds\n",
    "of years. Probability has found application in areas as diverse as medicine, gambling, weather\n",
    "forecasting, and the law.\n",
    "\n",
    "<br>\n",
    "\n",
    "|  Description ||\n",
    "|--------------------------|-------------|\n",
    "| *The Frequency Interpretation* | <ins>Relative frequency</ins> with which that outcome would be obtained if the process were repeated a large number of times under similar conditions |\n",
    "| *Classical Definition* | Based on the assumption that all events considered are equally likely outcomes |\n",
    "| *Subjective* | Likelihood is based on a personal assessment and interpretation of events |"
   ]
  },
  {
   "cell_type": "markdown",
   "id": "6a2f60d4-8664-4af9-9e3d-aeb6b5582fba",
   "metadata": {},
   "source": [
    "## Sets\n",
    "\n",
    "- A **set** is defined as a collection of objects. It could be *finite* or *infinite*.\n",
    "\n",
    "- Each object in a set is called **element**\n",
    "\n",
    "- If $a$ is an element of $A$ denoted by $a \\in A$\n",
    "\n",
    "\n",
    "|Terms||\n",
    "|--------------------------|-------------|\n",
    "| *elementary set* | a set containing only one element |\n",
    "| *null set* or *empty set* | a set containing no elements ($\\phi$) |\n",
    "| *universal set* | the set containing all elements under consideration ($\\Omega$)|\n",
    "\n",
    "<br>\n",
    "\n",
    "|<div style=\"width:150px\">Operations</div>|<div style=\"width:80px\"></div>||\n",
    "|-|-----------------|-|\n",
    "| *complement* | $A^c$ or $A'$ | $A^c = \\{x \\in \\Omega | x \\notin A \\}$ |\n",
    "| *union* | $A\\cup B$ | $A \\cup B = \\{x | x \\in A\\ or\\ x \\in B \\}$ |\n",
    "| *intersection* | $A\\cap B$ | $A \\cap B = \\{x | x \\in A\\ and\\ x \\in B \\}$ |\n",
    "| *symmetric difference* | $A - B$ | $A - B = \\{x | x \\in A\\ and\\ x \\notin B \\}\\ or\\ A \\cap B^c$ |"
   ]
  },
  {
   "cell_type": "markdown",
   "id": "a9aba500-500d-4bfb-9c56-0daac9ab0803",
   "metadata": {},
   "source": [
    "## Random Experiment\n",
    "**A.K.A**  *data generating-process*\n",
    "\n",
    "- All possible outcomes are known in advance\n",
    "- Any performance of the experiment results in an outcome that is NOT known in advance\n",
    "- Experiment can be repeated under identical conditions\n",
    "\n",
    "## Sample Spaces and Events\n",
    "\n",
    "- *Sample space* - set of all possible outcomes of a statistical experiment represented by $S$\n",
    "- *Sample point* - any element or member of the sample space\n",
    "\n",
    "## Counting Techniques\n",
    "\n",
    "### Multiplication Rule\n",
    "The multiplication rule is a fundamental concept in **probability theory** that is used to calculate the probability of two (or more) independent events occurring together. It states that the probability of the joint occurrence of two or more independent events is equal to the product of their individual probabilities.\n",
    "\n",
    "Mathematically, for two independent events A and B, the multiplication rule can be expressed as:\n",
    "\n",
    "$P(A \\text{ and } B) = P(A) \\cdot P(B)$\n",
    "\n",
    "Here:\n",
    "- $P(A \\text{ and } B)$ represents the probability that both events A and B occur.\n",
    "- $P(A)$ is the probability of event A occurring.\n",
    "- $P(B)$ is the probability of event B occurring.\n",
    "\n",
    "This rule holds true for any number of independent events. If you want to calculate the probability of multiple independent events happening together, you simply multiply the individual probabilities of each event.\n",
    "\n",
    "It's important to note that the multiplication rule is applicable when the events are truly independent, meaning that the occurrence of one event does not affect the probability of the other event occurring."
   ]
  },
  {
   "cell_type": "code",
   "execution_count": 3,
   "id": "516a2467-77a1-485f-8adf-a1472688eb82",
   "metadata": {
    "execution": {
     "iopub.execute_input": "2023-10-23T12:52:35.616333Z",
     "iopub.status.busy": "2023-10-23T12:52:35.616005Z",
     "iopub.status.idle": "2023-10-23T12:52:35.622371Z",
     "shell.execute_reply": "2023-10-23T12:52:35.621376Z",
     "shell.execute_reply.started": "2023-10-23T12:52:35.616309Z"
    },
    "tags": []
   },
   "outputs": [
    {
     "name": "stdout",
     "output_type": "stream",
     "text": [
      "The joint probability of A and B is 0.12\n"
     ]
    }
   ],
   "source": [
    "# Define the individual probabilities for events A and B\n",
    "prob_A = 0.3\n",
    "prob_B = 0.4\n",
    "\n",
    "# Calculate the joint probability of A and B\n",
    "joint_prob = prob_A * prob_B\n",
    "\n",
    "print(f\"The joint probability of A and B is {joint_prob}\")"
   ]
  },
  {
   "cell_type": "markdown",
   "id": "00146eae-23b9-48b1-907b-e4ff67c1018b",
   "metadata": {},
   "source": [
    "### Permutations\n",
    "\n",
    "A **permutation** is an arrangement of objects in a specific order. It refers to the different ways in which a set of items can be ordered. For example, if you have a set of three elements {A, B, C}, there are six possible permutations:\n",
    "\n",
    "1. ABC\n",
    "2. ACB\n",
    "3. BAC\n",
    "4. BCA\n",
    "5. CAB\n",
    "6. CBA\n",
    "\n",
    "Permutations are often used in combinatorics and probability theory to count the number of possible arrangements or outcomes. They are denoted by the symbol \"P\" and calculated using the permutation formula, which is:\n",
    "\n",
    "$P(n, r) = \\frac{n!}{(n - r)!}$\n",
    "\n",
    "Where:\n",
    "- $P(n, r)$ represents the number of permutations of $n$ items taken $r$ at a time.\n",
    "- $n$ is the total number of items.\n",
    "- $r$ is the number of items taken at a time.\n",
    "- $n!$ (read as \"n factorial\") is the product of all positive integers from 1 to $n$.\n",
    "- $(n - r)!$ is the product of all positive integers from 1 to $n - r$.\n",
    "\n",
    "Permutations are used in various areas of mathematics and combinatorics, such as counting arrangements, solving problems involving arrangements, and calculating probabilities."
   ]
  },
  {
   "cell_type": "code",
   "execution_count": 4,
   "id": "66780db3-0e14-4ba7-9d27-cc595a324485",
   "metadata": {
    "execution": {
     "iopub.execute_input": "2023-10-23T12:52:35.623436Z",
     "iopub.status.busy": "2023-10-23T12:52:35.623219Z",
     "iopub.status.idle": "2023-10-23T12:52:35.630861Z",
     "shell.execute_reply": "2023-10-23T12:52:35.629548Z",
     "shell.execute_reply.started": "2023-10-23T12:52:35.623417Z"
    },
    "tags": []
   },
   "outputs": [
    {
     "name": "stdout",
     "output_type": "stream",
     "text": [
      "[('A', 'B', 'C'), ('A', 'C', 'B'), ('B', 'A', 'C'), ('B', 'C', 'A'), ('C', 'A', 'B'), ('C', 'B', 'A')]\n",
      "Total number of permutations: 6\n"
     ]
    }
   ],
   "source": [
    "# Create a set of items\n",
    "items = ['A', 'B', 'C']\n",
    "\n",
    "# Generate all permutations of the items\n",
    "all_permutations = list(itertools.permutations(items))\n",
    "\n",
    "# Print the permutations\n",
    "print(all_permutations)\n",
    "\n",
    "print(f\"Total number of permutations: {len(all_permutations)}\")"
   ]
  },
  {
   "cell_type": "code",
   "execution_count": 5,
   "id": "4f3dd818-7b86-46f8-a6d5-6381781e4325",
   "metadata": {
    "execution": {
     "iopub.execute_input": "2023-10-23T12:52:35.631919Z",
     "iopub.status.busy": "2023-10-23T12:52:35.631650Z",
     "iopub.status.idle": "2023-10-23T12:52:35.638791Z",
     "shell.execute_reply": "2023-10-23T12:52:35.637631Z",
     "shell.execute_reply.started": "2023-10-23T12:52:35.631894Z"
    },
    "tags": []
   },
   "outputs": [
    {
     "name": "stdout",
     "output_type": "stream",
     "text": [
      "[('A', 'B'), ('A', 'C'), ('B', 'A'), ('B', 'C'), ('C', 'A'), ('C', 'B')]\n",
      "Total number of permutations: 6\n"
     ]
    }
   ],
   "source": [
    "r = 2\n",
    "\n",
    "# Generate all permutations of the items taken r at a time\n",
    "permutations_r_at_a_time = list(itertools.permutations(items, 2))\n",
    "\n",
    "# Print the permutations\n",
    "print(permutations_r_at_a_time)\n",
    "\n",
    "print(f\"Total number of permutations: {len(permutations_r_at_a_time)}\")"
   ]
  },
  {
   "cell_type": "code",
   "execution_count": 93,
   "id": "1f078c72-137d-47bb-b7b0-f29fbdb9332d",
   "metadata": {
    "execution": {
     "iopub.execute_input": "2023-10-24T07:06:59.082326Z",
     "iopub.status.busy": "2023-10-24T07:06:59.081587Z",
     "iopub.status.idle": "2023-10-24T07:06:59.097161Z",
     "shell.execute_reply": "2023-10-24T07:06:59.095661Z",
     "shell.execute_reply.started": "2023-10-24T07:06:59.082259Z"
    },
    "tags": []
   },
   "outputs": [
    {
     "name": "stdout",
     "output_type": "stream",
     "text": [
      "[('A', 'A'), ('A', 'B'), ('A', 'C'), ('A', 'A'), ('A', 'B'), ('A', 'C'), ('B', 'A'), ('B', 'A'), ('B', 'C'), ('C', 'A'), ('C', 'A'), ('C', 'B')]\n",
      "Total number of permutations: 12\n",
      "{('A', 'A'), ('B', 'A'), ('B', 'C'), ('C', 'A'), ('A', 'C'), ('A', 'B'), ('C', 'B')}\n",
      "Total number of unique permutations: 7\n"
     ]
    }
   ],
   "source": [
    "# Handling permutation with repetition\n",
    "\n",
    "# Create a set of items\n",
    "items = ['A', 'A', 'B', 'C']\n",
    "r = 2\n",
    "\n",
    "# Generate all permutations of the items\n",
    "all_permutations = list(itertools.permutations(items, r))\n",
    "\n",
    "# Print the permutations\n",
    "print(all_permutations)\n",
    "\n",
    "print(f\"Total number of permutations: {len(all_permutations)}\")\n",
    "\n",
    "unique_permutations = set(all_permutations)\n",
    "\n",
    "print(unique_permutations)\n",
    "\n",
    "print(f\"Total number of unique permutations: {len(unique_permutations)}\")"
   ]
  },
  {
   "cell_type": "code",
   "execution_count": 97,
   "id": "651b5b5f-6fbc-4729-b934-4ba4fd728031",
   "metadata": {
    "execution": {
     "iopub.execute_input": "2023-10-24T07:07:55.830551Z",
     "iopub.status.busy": "2023-10-24T07:07:55.829827Z",
     "iopub.status.idle": "2023-10-24T07:07:55.842132Z",
     "shell.execute_reply": "2023-10-24T07:07:55.840239Z",
     "shell.execute_reply.started": "2023-10-24T07:07:55.830488Z"
    },
    "tags": []
   },
   "outputs": [
    {
     "data": {
      "text/plain": [
       "6"
      ]
     },
     "execution_count": 97,
     "metadata": {},
     "output_type": "execute_result"
    }
   ],
   "source": [
    "math.perm(3,2)"
   ]
  },
  {
   "cell_type": "markdown",
   "id": "2d8d7413-193b-45b2-a2e9-f97474e976f3",
   "metadata": {},
   "source": [
    "### Combinations\n",
    "A **combination** is a selection of items from a larger pool without regard to the order in which the items were selected. It is used to count the number of ways to choose items from a set, often referred to as \"n choose k,\" where n is the total number of items, and k is the number of items to be selected without considering their order.\n",
    "\n",
    "The formula to calculate combinations is given by:\n",
    "\n",
    "$C(n, k) = \\frac{n!}{k!(n - k)!}$\n",
    "\n",
    "Where:\n",
    "- $C(n, k)$ represents the number of combinations of $n$ items taken $k$ at a time.\n",
    "- $n$ is the total number of items to choose from.\n",
    "- $k$ is the number of items to be selected.\n",
    "- $n!$ (read as \"n factorial\") is the product of all positive integers from 1 to $n$.\n",
    "- $k!$ (read as \"k factorial\") is the product of all positive integers from 1 to $k$.\n",
    "- $(n - k)!$ (read as \"n minus k factorial\") is the product of all positive integers from 1 to $n - k$."
   ]
  },
  {
   "cell_type": "code",
   "execution_count": 94,
   "id": "b30ee1fd-8f80-4e16-8c43-21960daa3604",
   "metadata": {
    "execution": {
     "iopub.execute_input": "2023-10-24T07:07:11.290612Z",
     "iopub.status.busy": "2023-10-24T07:07:11.289901Z",
     "iopub.status.idle": "2023-10-24T07:07:11.302131Z",
     "shell.execute_reply": "2023-10-24T07:07:11.300187Z",
     "shell.execute_reply.started": "2023-10-24T07:07:11.290549Z"
    },
    "tags": []
   },
   "outputs": [
    {
     "name": "stdout",
     "output_type": "stream",
     "text": [
      "[('A', 'B'), ('A', 'C'), ('B', 'C')]\n",
      "Total number of combinations: 3\n"
     ]
    }
   ],
   "source": [
    "# Create a set of items\n",
    "items = ['A', 'B', 'C']\n",
    "r = 2\n",
    "\n",
    "# Generate all combinations of the items\n",
    "all_combinations = list(itertools.combinations(items, r))\n",
    "\n",
    "# Print the combinations\n",
    "print(all_combinations)\n",
    "\n",
    "print(f\"Total number of combinations: {len(all_combinations)}\")"
   ]
  },
  {
   "cell_type": "code",
   "execution_count": 95,
   "id": "9a54a334-9ecc-430d-8483-2f087567169d",
   "metadata": {
    "execution": {
     "iopub.execute_input": "2023-10-24T07:07:19.572649Z",
     "iopub.status.busy": "2023-10-24T07:07:19.571905Z",
     "iopub.status.idle": "2023-10-24T07:07:19.585390Z",
     "shell.execute_reply": "2023-10-24T07:07:19.583487Z",
     "shell.execute_reply.started": "2023-10-24T07:07:19.572586Z"
    },
    "tags": []
   },
   "outputs": [
    {
     "name": "stdout",
     "output_type": "stream",
     "text": [
      "[('A', 'A'), ('A', 'B'), ('A', 'C'), ('A', 'B'), ('A', 'C'), ('B', 'C')]\n",
      "Total number of combinations: 6\n",
      "{('A', 'C'), ('B', 'C'), ('A', 'B'), ('A', 'A')}\n",
      "Total number of unique combinations: 4\n"
     ]
    }
   ],
   "source": [
    "# Handling combinations with repetition\n",
    "# Create a set of items\n",
    "items = ['A', 'A', 'B', 'C']\n",
    "r = 2\n",
    "\n",
    "# Generate all combinations of the items\n",
    "all_combinations = list(itertools.combinations(items, r))\n",
    "\n",
    "# Print the combinations\n",
    "print(all_combinations)\n",
    "\n",
    "print(f\"Total number of combinations: {len(all_combinations)}\")\n",
    "\n",
    "unique_combinations = set(all_combinations)\n",
    "\n",
    "print(unique_combinations)\n",
    "\n",
    "print(f\"Total number of unique combinations: {len(unique_combinations)}\")"
   ]
  },
  {
   "cell_type": "code",
   "execution_count": 96,
   "id": "9adde9fc-66f6-4940-bbcf-43fdce53c51c",
   "metadata": {
    "execution": {
     "iopub.execute_input": "2023-10-24T07:07:36.326446Z",
     "iopub.status.busy": "2023-10-24T07:07:36.325735Z",
     "iopub.status.idle": "2023-10-24T07:07:36.338499Z",
     "shell.execute_reply": "2023-10-24T07:07:36.336768Z",
     "shell.execute_reply.started": "2023-10-24T07:07:36.326382Z"
    },
    "tags": []
   },
   "outputs": [
    {
     "data": {
      "text/plain": [
       "3"
      ]
     },
     "execution_count": 96,
     "metadata": {},
     "output_type": "execute_result"
    }
   ],
   "source": [
    "math.comb(3,2)"
   ]
  },
  {
   "cell_type": "markdown",
   "id": "eafe2a46-ddf1-4f29-a18b-601e7120c29d",
   "metadata": {},
   "source": [
    "### Partitioning\n",
    "\n",
    "**Partitioning** refers to the process of dividing a set or a whole into non-empty, disjoint subsets, where each element of the original set belongs to one and only one subset. These subsets are often called \"partitions.\"\n",
    "\n",
    "A **partition** can be represented in different ways, such as through diagrams, mathematical notation, or as a list of subsets. Each subset in a partition is called a \"part,\" and the parts together make up the whole set.\n",
    "\n",
    "The formula for the number of ways to partition a set of $n$ objects into $r$ cells with $n_1$ elements in the first cell, $n_2$ in the second, and so forth, is given by:\n",
    "\n",
    "$ \\text{Number of Ways} = \\binom{n}{n_1, n_2, \\ldots, n_r} = \\frac{n!}{n_1! \\cdot n_2! \\cdot \\ldots \\cdot n_r!} $\n",
    "\n",
    "Where:\n",
    "- $n$ is the total number of objects in the set.\n",
    "- $r$ is the number of cells or parts you are partitioning the set into.\n",
    "- $n_1, n_2, \\ldots, n_r$ are the counts of elements you want in each of the $r$ cells.\n",
    "- $\\binom{n}{n_1, n_2, \\ldots, n_r}$ is a multinomial coefficient, representing the number of ways to partition $n$ objects into $r$ cells with the specified counts.\n",
    "\n",
    "This formula allows for partitions where some cells may contain zero elements and does not require subtracting 1 from the counts of elements in each cell."
   ]
  },
  {
   "cell_type": "code",
   "execution_count": 9,
   "id": "51d1f7d9-7ec0-4ddd-a05d-16ab196da0f4",
   "metadata": {
    "execution": {
     "iopub.execute_input": "2023-10-23T12:52:35.671536Z",
     "iopub.status.busy": "2023-10-23T12:52:35.671137Z",
     "iopub.status.idle": "2023-10-23T12:52:35.682225Z",
     "shell.execute_reply": "2023-10-23T12:52:35.680610Z",
     "shell.execute_reply.started": "2023-10-23T12:52:35.671499Z"
    },
    "tags": []
   },
   "outputs": [
    {
     "name": "stdout",
     "output_type": "stream",
     "text": [
      "Number of ways to partition: 4200.0\n"
     ]
    }
   ],
   "source": [
    "'''\n",
    "In this example, we define a function partition_ways that takes \n",
    "the total number of objects n and a list counts that specifies \n",
    "the counts of elements in each cell. The function calculates the \n",
    "number of ways to partition the set using the provided formula.\n",
    "\n",
    "You can adjust the values of n and counts to match your specific scenario.\n",
    "\n",
    "When you run this code with n = 10 and counts = [3, 4, 3],\n",
    "it will calculate and print the number of ways to partition \n",
    "the set into three cells with the specified counts.\n",
    "'''\n",
    "\n",
    "def partition_ways(n, counts):\n",
    "    # Calculate the multinomial coefficient\n",
    "    denominator = 1\n",
    "    for count in counts:\n",
    "        denominator *= math.factorial(count)\n",
    "\n",
    "    # Number of ways to partition\n",
    "    ways = math.factorial(n) / denominator\n",
    "\n",
    "    return ways\n",
    "\n",
    "# Example usage:\n",
    "n = 10\n",
    "counts = [3, 4, 3]\n",
    "ways = partition_ways(n, counts)\n",
    "print(f\"Number of ways to partition: {ways}\")"
   ]
  },
  {
   "cell_type": "markdown",
   "id": "ded31626-8e6d-4ccf-b1fb-23246465a369",
   "metadata": {},
   "source": [
    "### Sampling\n",
    "A fundamental technique in statistics and research that involves selecting a subset of individuals, items, or data points from a larger population or dataset for the purpose of making inferences, conducting analysis, or drawing conclusions about the entire population. The process of selecting this subset is called \"sampling,\" and the selected individuals or items are referred to as the \"sample.\"\n",
    "\n",
    "#### Sampling With Replacement (SWR)\n",
    "Sampling with Replacement (SWR) with total number $n$ at $k$ Selections:\n",
    "\n",
    "- *S*: The set of vectors or items from which you are sampling, with replacement. (a simple sample space)\n",
    "- *Total Number of Vectors in S*: $n^k$.\n",
    "- *Probability Assigned to Each Vector in S*: $\\frac{1}{n^k}$.\n",
    "\n",
    "#### Sampling Without Replacement (SWOR)\n",
    "Sampling without Replacement (SWOR) with total number $n$ at $k$ Selections:\n",
    "\n",
    "- *S*: The set of vectors or items from which you are sampling, without replacement. (a simple sample space)\n",
    "- *Total Number of Vectors in S*: $_nP_k$.\n",
    "- *Probability Assigned to Each Vector in S*: $\\frac{1}{_nP_k}$"
   ]
  },
  {
   "cell_type": "code",
   "execution_count": 10,
   "id": "5802b7df-0d9d-4529-b48d-e372eaadd7fb",
   "metadata": {
    "execution": {
     "iopub.execute_input": "2023-10-23T12:52:35.683572Z",
     "iopub.status.busy": "2023-10-23T12:52:35.683247Z",
     "iopub.status.idle": "2023-10-23T12:52:35.692359Z",
     "shell.execute_reply": "2023-10-23T12:52:35.691076Z",
     "shell.execute_reply.started": "2023-10-23T12:52:35.683542Z"
    },
    "tags": []
   },
   "outputs": [
    {
     "name": "stdout",
     "output_type": "stream",
     "text": [
      "SWR Sample: [4 2 4]\n",
      "SWOR Sample: [3 2 5]\n"
     ]
    }
   ],
   "source": [
    "# Population or set of items\n",
    "population = [1, 2, 3, 4, 5]\n",
    "\n",
    "# Number of selections\n",
    "k = 3\n",
    "\n",
    "# Sampling with Replacement (SWR)\n",
    "swr_sample = np.random.choice(population, k, replace=True)\n",
    "\n",
    "# Sampling without Replacement (SWOR)\n",
    "swor_sample = np.random.choice(population, k, replace=False)\n",
    "\n",
    "print(\"SWR Sample:\", swr_sample)\n",
    "print(\"SWOR Sample:\", swor_sample)"
   ]
  },
  {
   "cell_type": "markdown",
   "id": "ed299a4f-a28b-413c-9eec-4cdfa760cb0e",
   "metadata": {},
   "source": [
    "## Axioms of Probability\n",
    "\n",
    "1. **Non-Negativity Axiom:** The probability of an event is always a non-negative real number. Mathematically, for any event $A$, $P(A) \\geq 0$.\n",
    "\n",
    "2. **Additivity Axiom:** The probability of the union of two mutually exclusive events is equal to the sum of their individual probabilities. For any collection of mutually exclusive events $A_1, A_2, \\ldots$, the probability of their union is given by:\n",
    "   $P(A_1 \\cup A_2 \\cup \\ldots) = P(A_1) + P(A_2) + \\ldots$\n",
    "\n",
    "3. **Normalization Axiom (Total Probability Axiom):** The probability of the entire sample space is equal to 1. In other words, the probability that some outcome will occur is certain. Mathematically, for the entire sample space $S$, $P(S) = 1$.\n",
    "\n",
    "4. **Probability of an Event Cannot Exceed 1:** The probability of any event $A$ is less than or equal to 1. Mathematically, for any event $A$, $P(A) \\leq 1$.\n",
    "\n",
    "5. **Probability of the Impossible Event:** The probability of the empty set, denoted by $\\emptyset$ or $\\phi$, is equal to 0. Mathematically, $P(\\emptyset) = 0$.\n"
   ]
  },
  {
   "cell_type": "markdown",
   "id": "e531d4f0-96dd-440c-bda9-15d42de28571",
   "metadata": {},
   "source": [
    "## Laws of Probability\n",
    "\n",
    "| Rule                                  | Formula   <div style=\"width:300px\"></div>                                    | Definition                                                                             |\n",
    "|---------------------------------------|-----------------------------------------------|----------------------------------------------------------------------------------------|\n",
    "| *Complement Rule*                   | $P(A^c) = 1 - P(A)$                        | The probability of the complement of an event $A$ is equal to 1 minus the probability of the event $A$. |\n",
    "| *Addition Rule (for Mutually Exclusive Events)* | $P(A \\cup B) = P(A) + P(B)$           | The probability of the union of two mutually exclusive events $A$ and $B$ is equal to the sum of their individual probabilities. |\n",
    "| *General Addition Rule (for Any Two Events)* | $P(A \\cup B) = P(A) + P(B) - P(A \\cap B)$ | The probability of the union of two events $A$ and $B$ is equal to the sum of their individual probabilities minus the probability of their intersection. |\n",
    "| *Inclusion-Exclusion Principle (for More Than Two Events)* | -                                 | For the union of more than two events, the probability is calculated by alternately adding and subtracting the probabilities of all possible intersections of these events. |\n",
    "| *Multiplication Rule (for Independent Events)* | $P(A \\cap B) = P(A) \\cdot P(B)$      | The probability of the intersection of two independent events $A$ and $B$ is equal to the product of their individual probabilities. |\n",
    "| *Conditional Probability*            | $P(A | B) = \\frac{P(A \\cap B)}{P(B)}$       | The probability of an event $A$ occurring given that another event $B$ has already occurred is calculated as the ratio of the probability of their intersection to the probability of $B$. |\n",
    "| *Law of Total Probability*           | $P(A) = \\sum_{i=1}^n P(A | B_i) \\cdot P(B_i)$ | If a sample space can be partitioned into mutually exclusive events $B_1, B_2, \\ldots, B_n$, the probability of any event $A$ can be expressed as a sum of conditional probabilities over the partitions. |\n",
    "| *Bayes' Theorem*                    | $P(B_i | A) = \\frac{P(A | B_i) \\cdot P(B_i)}{\\sum_{j=1}^n P(A | B_j) \\cdot P(B_j)}$ | A fundamental result in conditional probability that allows you to update your beliefs about an event $B_i$ based on new evidence $A$. |\n",
    "\n"
   ]
  },
  {
   "cell_type": "markdown",
   "id": "50b482be-71bd-469e-b904-a453e9398abf",
   "metadata": {
    "tags": []
   },
   "source": [
    "## Simulation\n",
    "\n",
    "### Samples\n",
    "\n",
    "##### Simulate the probability of having 2 people out of 23 having the same birthday"
   ]
  },
  {
   "cell_type": "code",
   "execution_count": 11,
   "id": "38c95352-1b3d-4b40-b935-4bd17a9f848d",
   "metadata": {
    "execution": {
     "iopub.execute_input": "2023-10-23T12:52:35.693629Z",
     "iopub.status.busy": "2023-10-23T12:52:35.693306Z",
     "iopub.status.idle": "2023-10-23T12:52:35.792960Z",
     "shell.execute_reply": "2023-10-23T12:52:35.792006Z",
     "shell.execute_reply.started": "2023-10-23T12:52:35.693600Z"
    }
   },
   "outputs": [
    {
     "name": "stdout",
     "output_type": "stream",
     "text": [
      "Number of simulations: 1000\n",
      "Number of doubles: 509\n",
      "Probability of doubles: 0.509\n"
     ]
    }
   ],
   "source": [
    "np.random.seed(104)\n",
    "birthdays, probabilities, people, outcomes, success, sims, prob = range(1,366), [1/365]*365, 23, [], 0, 1000, 0\n",
    "\n",
    "for i in range(sims):\n",
    "    outcomes = np.random.choice(birthdays, size=people, p=probabilities)\n",
    "    if len(outcomes) > len(set(outcomes)):  #Success if there is atleast one duplicate in list\n",
    "        success += 1\n",
    "        prob = success/sims\n",
    "\n",
    "print(\"Number of simulations: {}\".format(sims))\n",
    "print(\"Number of doubles: {}\".format(success))\n",
    "print(\"Probability of doubles: {}\".format(prob))"
   ]
  },
  {
   "cell_type": "markdown",
   "id": "f24bde87-c7c2-4193-8179-2b8cf0680831",
   "metadata": {},
   "source": [
    "##### Simulate conditional probability of Louise passing the driving test given it rains or not\n",
    "\n",
    "Given:\n",
    "\n",
    "- Let $L$ = Louise passes the test, $Su$ = Sunny, $R$ = Rainy\n",
    "\n",
    "- $P(L | Su) = 0.92$\n",
    "\n",
    "- $P(L | R) = 0.35$\n",
    "\n",
    "- $P(R) = 0.40$"
   ]
  },
  {
   "cell_type": "code",
   "execution_count": 12,
   "id": "6d1bcb71-79c6-46c1-99fd-439685d86bbe",
   "metadata": {
    "execution": {
     "iopub.execute_input": "2023-10-23T12:52:35.794108Z",
     "iopub.status.busy": "2023-10-23T12:52:35.793898Z",
     "iopub.status.idle": "2023-10-23T12:52:35.899661Z",
     "shell.execute_reply": "2023-10-23T12:52:35.898674Z",
     "shell.execute_reply.started": "2023-10-23T12:52:35.794089Z"
    }
   },
   "outputs": [
    {
     "name": "stdout",
     "output_type": "stream",
     "text": [
      "Number of simulations: 1000\n",
      "Number of times Louise pass: 692\n",
      "Probability of times Louise pass: 0.692\n"
     ]
    }
   ],
   "source": [
    "def simulate_louise_driving_test(sims):\n",
    "    np.random.seed(121)\n",
    "    success, prob = 0, 0\n",
    "\n",
    "    for i in range(sims):\n",
    "        weather = np.random.choice(['S', 'R'], p=[0.6, 0.4])\n",
    "        louise_success_rate = 0.92\n",
    "        if weather == 'R':\n",
    "            louise_success_rate = 0.35\n",
    "\n",
    "        louise_success = np.random.choice([True, False], p=[louise_success_rate, 1 - louise_success_rate])\n",
    "        if louise_success:\n",
    "            success += 1\n",
    "            prob = success/sims\n",
    "\n",
    "    print(\"Number of simulations: {}\".format(sims))\n",
    "    print(\"Number of times Louise pass: {}\".format(success))\n",
    "    print(\"Probability of times Louise pass: {}\".format(prob))\n",
    "    \n",
    "simulate_louise_driving_test(1000)"
   ]
  },
  {
   "cell_type": "markdown",
   "id": "badf6d58-bb43-4f8c-b4c5-babb020d19f3",
   "metadata": {},
   "source": [
    "## Random Variables\n",
    "\n",
    "A **random variable** is a function that associates a real number with each element in the sample space. \n",
    "\n",
    "<hr>\n",
    "\n",
    "### Discrete Random Variables\n",
    "If a sample space contains a finite number of possibilities or an unending sequence\n",
    "with as many elements as there are whole numbers, it is called a *discrete sample*\n",
    "space. <u>It’s corresponding random variable is also discrete</u>. A probability\n",
    "distribution associated with it is a *probability mass function*.\n",
    "\n",
    "### Probability Mass Function\n",
    "The general form of the PMF for a discrete random variable is:\n",
    "\n",
    "$P(X = x) = p(x)$\n",
    "\n",
    "Where:\n",
    "- $P(X = x)$ is the probability that the random variable $X$ takes on the specific value $x$.\n",
    "- $p(x)$ is the probability associated with the value $x$.\n",
    "\n",
    "The sum of the probabilities for all possible values of the random variable should equal 1:\n",
    "\n",
    "$\\sum_{\\text{all } x} p(x) = 1$\n",
    "\n",
    "\n"
   ]
  },
  {
   "cell_type": "code",
   "execution_count": 36,
   "id": "55c9e9c9-926e-481a-8336-397b483d03c0",
   "metadata": {
    "execution": {
     "iopub.execute_input": "2023-10-23T12:52:58.771725Z",
     "iopub.status.busy": "2023-10-23T12:52:58.771017Z",
     "iopub.status.idle": "2023-10-23T12:52:58.792784Z",
     "shell.execute_reply": "2023-10-23T12:52:58.790932Z",
     "shell.execute_reply.started": "2023-10-23T12:52:58.771665Z"
    },
    "tags": []
   },
   "outputs": [
    {
     "name": "stdout",
     "output_type": "stream",
     "text": [
      "P(X = 1) = 0.17\n",
      "P(X = 2) = 0.17\n",
      "P(X = 3) = 0.17\n",
      "P(X = 4) = 0.17\n",
      "P(X = 5) = 0.17\n",
      "P(X = 6) = 0.17\n"
     ]
    },
    {
     "data": {
      "text/plain": [
       "3.5"
      ]
     },
     "execution_count": 36,
     "metadata": {},
     "output_type": "execute_result"
    }
   ],
   "source": [
    "# Example PMF in rolling a 6-sided die\n",
    "\n",
    "# Define the values and probabilities for a fair six-sided die\n",
    "x_values = [1, 2, 3, 4, 5, 6]\n",
    "x_probabilities = [1/6, 1/6, 1/6, 1/6, 1/6, 1/6]\n",
    "\n",
    "# Create a discrete random variable\n",
    "rv = stats.rv_discrete(name='fair_die', values=(x_values, x_probabilities))\n",
    "\n",
    "# Calculate the PMF for each possible value\n",
    "pmf_result = rv.pmf(x_values)\n",
    "\n",
    "# Print the PMF values\n",
    "for x, pmf_value in zip(x_values, pmf_result):\n",
    "    print(f'P(X = {x}) = {pmf_value:.2f}')\n",
    "    \n",
    "rv.mean()"
   ]
  },
  {
   "cell_type": "markdown",
   "id": "6e68edce-c348-4db7-976b-20cf4ace39d5",
   "metadata": {},
   "source": [
    "### Continuous Random Variables\n",
    "If a sample space contains an infinite number of possibilities equal to the number\n",
    "of points on a line segment, it is called a *continuous sample space*. A probability\n",
    "distribution associated with it is called a *probability density function* (area).\n",
    "\n",
    "### Probability Density Function\n",
    "The general form of the PDF for a continuous random variable is:\n",
    "\n",
    "$P(a \\leq X \\leq b) = \\int_{a}^{b} f(x) \\, dx$\n",
    "\n",
    "Where:\n",
    "- $P(a \\leq X \\leq b)$ is the probability that the random variable $X$ falls within the interval from $a$ to $b$.\n",
    "- $f(x)$ is the probability density function.\n",
    "- The integral symbol $\\int$ represents integration over the interval from $a$ to $b$.\n",
    "\n",
    "The total area under the PDF curve over the entire range of possible values is equal to 1.\n",
    "\n"
   ]
  },
  {
   "cell_type": "code",
   "execution_count": 14,
   "id": "b8bcbe58-5394-44ce-97c9-10a84e094d4e",
   "metadata": {
    "execution": {
     "iopub.execute_input": "2023-10-23T12:52:35.924356Z",
     "iopub.status.busy": "2023-10-23T12:52:35.923259Z",
     "iopub.status.idle": "2023-10-23T12:52:36.140368Z",
     "shell.execute_reply": "2023-10-23T12:52:36.138853Z",
     "shell.execute_reply.started": "2023-10-23T12:52:35.924262Z"
    },
    "tags": []
   },
   "outputs": [
    {
     "data": {
      "image/png": "[encoded data removed]",
      "text/plain": [
       "<Figure size 640x480 with 1 Axes>"
      ]
     },
     "metadata": {},
     "output_type": "display_data"
    }
   ],
   "source": [
    "# Create a standard normal (Gaussian) distribution\n",
    "mean = 0\n",
    "std_dev = 1\n",
    "rv = stats.norm(loc=mean, scale=std_dev)\n",
    "\n",
    "# Generate a range of values to compute the PDF\n",
    "x = np.linspace(-3, 3, 1000)\n",
    "\n",
    "# Calculate the PDF for the range of values\n",
    "pdf_values = rv.pdf(x)\n",
    "\n",
    "# Plot the PDF\n",
    "plt.plot(x, pdf_values, label='PDF')\n",
    "plt.title('Probability Density Function (PDF) of Standard Normal Distribution')\n",
    "plt.xlabel('x')\n",
    "plt.ylabel('PDF')\n",
    "plt.legend()\n",
    "plt.grid(True)\n",
    "plt.show()"
   ]
  },
  {
   "cell_type": "markdown",
   "id": "6b4a8ef2-e1b1-4499-9b81-128f6198bcf8",
   "metadata": {},
   "source": [
    "### Cumulative Distribution Function\n",
    "The Cumulative Distribution Function (CDF) describes the probability that the random variable takes on a value less than or equal to a specific value $x$. It is often denoted as $F(x)$.\n",
    "\n",
    "The general form of the CDF for a continuous random variable(discrete or continuous) is:\n",
    "\n",
    "$F(x) = P(X \\leq x) = \\int_{-\\infty}^{x} f(t) \\, dt$\n",
    "\n",
    "Where:\n",
    "- $F(x)$ is the cumulative probability that the random variable $X$ is less than or equal to $x$.\n",
    "- $f(t)$ is the probability density function (PDF) of the random variable.\n",
    "- The integral symbol $\\int$ represents integration from $-\\infty$ to $x$.\n",
    "\n",
    "The CDF represents the cumulative probability from negative infinity up to $x$, and its value at $x$ is the probability of the random variable being less than or equal to $x$.\n"
   ]
  },
  {
   "cell_type": "code",
   "execution_count": 15,
   "id": "aacecbbd-ffc4-4628-8f2a-46a62ee671f5",
   "metadata": {
    "execution": {
     "iopub.execute_input": "2023-10-23T12:52:36.146168Z",
     "iopub.status.busy": "2023-10-23T12:52:36.145629Z",
     "iopub.status.idle": "2023-10-23T12:52:36.341595Z",
     "shell.execute_reply": "2023-10-23T12:52:36.340626Z",
     "shell.execute_reply.started": "2023-10-23T12:52:36.146119Z"
    },
    "tags": []
   },
   "outputs": [
    {
     "data": {
      "image/png": "[encoded data removed]",
      "text/plain": [
       "<Figure size 640x480 with 1 Axes>"
      ]
     },
     "metadata": {},
     "output_type": "display_data"
    }
   ],
   "source": [
    "# Example 1: CDF for a Discrete Random Variable (Poisson Distribution)\n",
    "# In this example, we'll calculate and plot the CDF for a discrete random variable following a Poisson distribution.\n",
    "\n",
    "# Parameters for the Poisson distribution\n",
    "mu = 3  # Mean\n",
    "\n",
    "# Create a Poisson random variable\n",
    "rv = stats.poisson(mu)\n",
    "\n",
    "# Generate a range of values to compute the CDF\n",
    "x = np.arange(0, 10)\n",
    "\n",
    "# Calculate the CDF for the range of values\n",
    "cdf_values = rv.cdf(x)\n",
    "\n",
    "# Plot the CDF\n",
    "plt.step(x, cdf_values, label='CDF', where='post')\n",
    "plt.title('Cumulative Distribution Function (CDF) for Poisson Distribution')\n",
    "plt.xlabel('x')\n",
    "plt.ylabel('CDF')\n",
    "plt.legend()\n",
    "plt.grid(True)\n",
    "plt.show()"
   ]
  },
  {
   "cell_type": "code",
   "execution_count": 16,
   "id": "06d755bc-76e1-4513-9fcc-77af65f94f73",
   "metadata": {
    "execution": {
     "iopub.execute_input": "2023-10-23T12:52:36.342933Z",
     "iopub.status.busy": "2023-10-23T12:52:36.342697Z",
     "iopub.status.idle": "2023-10-23T12:52:36.539613Z",
     "shell.execute_reply": "2023-10-23T12:52:36.538695Z",
     "shell.execute_reply.started": "2023-10-23T12:52:36.342912Z"
    },
    "tags": []
   },
   "outputs": [
    {
     "data": {
      "image/png": "[encoded data removed]",
      "text/plain": [
       "<Figure size 640x480 with 1 Axes>"
      ]
     },
     "metadata": {},
     "output_type": "display_data"
    }
   ],
   "source": [
    "# Example 2: CDF for a Continuous Random Variable (Normal Distribution)\n",
    "# In this example, we'll calculate and plot the CDF for a continuous random variable following a normal distribution.\n",
    "\n",
    "# Parameters for the normal distribution\n",
    "mean = 0\n",
    "std_dev = 1\n",
    "\n",
    "# Create a normal random variable\n",
    "rv = stats.norm(loc=mean, scale=std_dev)\n",
    "\n",
    "# Generate a range of values to compute the CDF\n",
    "x = np.linspace(-3, 3, 1000)\n",
    "\n",
    "# Calculate the CDF for the range of values\n",
    "cdf_values = rv.cdf(x)\n",
    "\n",
    "# Plot the CDF\n",
    "plt.plot(x, cdf_values, label='CDF')\n",
    "plt.title('Cumulative Distribution Function (CDF) for Standard Normal Distribution')\n",
    "plt.xlabel('x')\n",
    "plt.ylabel('CDF')\n",
    "plt.legend()\n",
    "plt.grid(True)\n",
    "plt.show()"
   ]
  },
  {
   "cell_type": "markdown",
   "id": "91b7ce32-e790-442c-a0d9-aba1a025194d",
   "metadata": {},
   "source": [
    "### Joint Probability Function\n",
    "\n",
    "<br>\n",
    "\n",
    "**Joint Probability Function (Discrete Random Variables):**\n",
    "\n",
    "For two discrete random variables, say $X$ and $Y$, the Joint Probability Mass Function (PMF) is denoted as $p(x, y)$ and specifies the probability that $X = x$ and $Y = y$ simultaneously.\n",
    "\n",
    "- The general form of the Joint Probability Function for Discrete Random Variables:\n",
    "  $p(x, y) = P(X = x \\text{ and } Y = y)$"
   ]
  },
  {
   "cell_type": "code",
   "execution_count": 40,
   "id": "da2bbcd8-f18c-4fba-9149-a4217af2269f",
   "metadata": {
    "execution": {
     "iopub.execute_input": "2023-10-23T13:36:28.235869Z",
     "iopub.status.busy": "2023-10-23T13:36:28.235156Z",
     "iopub.status.idle": "2023-10-23T13:36:28.329956Z",
     "shell.execute_reply": "2023-10-23T13:36:28.328971Z",
     "shell.execute_reply.started": "2023-10-23T13:36:28.235810Z"
    },
    "tags": []
   },
   "outputs": [
    {
     "name": "stdout",
     "output_type": "stream",
     "text": [
      "P(X = 1, Y = 1) = 0.027777777777777776\n",
      "P(X = 1, Y = 2) = 0.027777777777777776\n",
      "P(X = 1, Y = 3) = 0.027777777777777776\n",
      "P(X = 1, Y = 4) = 0.027777777777777776\n",
      "P(X = 1, Y = 5) = 0.027777777777777776\n",
      "P(X = 1, Y = 6) = 0.027777777777777776\n",
      "P(X = 2, Y = 1) = 0.027777777777777776\n",
      "P(X = 2, Y = 2) = 0.027777777777777776\n",
      "P(X = 2, Y = 3) = 0.027777777777777776\n",
      "P(X = 2, Y = 4) = 0.027777777777777776\n",
      "P(X = 2, Y = 5) = 0.027777777777777776\n",
      "P(X = 2, Y = 6) = 0.027777777777777776\n",
      "P(X = 3, Y = 1) = 0.027777777777777776\n",
      "P(X = 3, Y = 2) = 0.027777777777777776\n",
      "P(X = 3, Y = 3) = 0.027777777777777776\n",
      "P(X = 3, Y = 4) = 0.027777777777777776\n",
      "P(X = 3, Y = 5) = 0.027777777777777776\n",
      "P(X = 3, Y = 6) = 0.027777777777777776\n",
      "P(X = 4, Y = 1) = 0.027777777777777776\n",
      "P(X = 4, Y = 2) = 0.027777777777777776\n",
      "P(X = 4, Y = 3) = 0.027777777777777776\n",
      "P(X = 4, Y = 4) = 0.027777777777777776\n",
      "P(X = 4, Y = 5) = 0.027777777777777776\n",
      "P(X = 4, Y = 6) = 0.027777777777777776\n",
      "P(X = 5, Y = 1) = 0.027777777777777776\n",
      "P(X = 5, Y = 2) = 0.027777777777777776\n",
      "P(X = 5, Y = 3) = 0.027777777777777776\n",
      "P(X = 5, Y = 4) = 0.027777777777777776\n",
      "P(X = 5, Y = 5) = 0.027777777777777776\n",
      "P(X = 5, Y = 6) = 0.027777777777777776\n",
      "P(X = 6, Y = 1) = 0.027777777777777776\n",
      "P(X = 6, Y = 2) = 0.027777777777777776\n",
      "P(X = 6, Y = 3) = 0.027777777777777776\n",
      "P(X = 6, Y = 4) = 0.027777777777777776\n",
      "P(X = 6, Y = 5) = 0.027777777777777776\n",
      "P(X = 6, Y = 6) = 0.027777777777777776\n"
     ]
    }
   ],
   "source": [
    "# Example of computing for all possible pairs of fair six-sided dice\n",
    "\n",
    "# Define the possible values and their probabilities for two fair six-sided dice\n",
    "x_values = [1, 2, 3, 4, 5, 6]\n",
    "y_values = [1, 2, 3, 4, 5, 6]\n",
    "\n",
    "# Create a discrete random variable for the joint distribution\n",
    "xk = list(itertools.product(x_values, y_values))\n",
    "pk = [(1/72,1/72)] * len(x_values) * len(y_values)\n",
    "\n",
    "\n",
    "rv = stats.rv_discrete(name='two_dice', values=(xk, pk))\n",
    "\n",
    "# Calculate the joint PMF values for all possible outcomes\n",
    "for x in x_values:\n",
    "    for y in y_values:\n",
    "        probability = rv.pmf((x,y))\n",
    "        print(f'P(X = {x}, Y = {y}) = {probability[0] + probability[1]}')"
   ]
  },
  {
   "cell_type": "code",
   "execution_count": 39,
   "id": "345df69b-1870-4b2e-974e-9140f37396bc",
   "metadata": {
    "execution": {
     "iopub.execute_input": "2023-10-23T13:36:15.861425Z",
     "iopub.status.busy": "2023-10-23T13:36:15.860691Z",
     "iopub.status.idle": "2023-10-23T13:36:15.874140Z",
     "shell.execute_reply": "2023-10-23T13:36:15.872247Z",
     "shell.execute_reply.started": "2023-10-23T13:36:15.861362Z"
    },
    "tags": []
   },
   "outputs": [
    {
     "data": {
      "text/plain": [
       "3.499999999999999"
      ]
     },
     "execution_count": 39,
     "metadata": {},
     "output_type": "execute_result"
    }
   ],
   "source": [
    "rv.mean()"
   ]
  },
  {
   "cell_type": "code",
   "execution_count": 42,
   "id": "421981db-2545-4470-9324-463f0e202a74",
   "metadata": {
    "execution": {
     "iopub.execute_input": "2023-10-23T13:37:04.171180Z",
     "iopub.status.busy": "2023-10-23T13:37:04.170437Z",
     "iopub.status.idle": "2023-10-23T13:37:04.183197Z",
     "shell.execute_reply": "2023-10-23T13:37:04.181550Z",
     "shell.execute_reply.started": "2023-10-23T13:37:04.171116Z"
    },
    "tags": []
   },
   "outputs": [
    {
     "data": {
      "text/plain": [
       "2.9166666666666714"
      ]
     },
     "execution_count": 42,
     "metadata": {},
     "output_type": "execute_result"
    }
   ],
   "source": [
    "rv.var()"
   ]
  },
  {
   "cell_type": "code",
   "execution_count": 43,
   "id": "6a79d400-4770-4822-8f20-d4a8091b1459",
   "metadata": {
    "execution": {
     "iopub.execute_input": "2023-10-23T13:37:14.323262Z",
     "iopub.status.busy": "2023-10-23T13:37:14.322560Z",
     "iopub.status.idle": "2023-10-23T13:37:14.336097Z",
     "shell.execute_reply": "2023-10-23T13:37:14.334632Z",
     "shell.execute_reply.started": "2023-10-23T13:37:14.323201Z"
    },
    "tags": []
   },
   "outputs": [
    {
     "data": {
      "text/plain": [
       "1.7078251276599345"
      ]
     },
     "execution_count": 43,
     "metadata": {},
     "output_type": "execute_result"
    }
   ],
   "source": [
    "rv.std()"
   ]
  },
  {
   "cell_type": "markdown",
   "id": "22cd2219-8ecc-47c0-9be5-0584a10841d7",
   "metadata": {},
   "source": [
    "<br>\n",
    "\n",
    "**Joint Probability Function (Continuous Random Variables):**\n",
    "\n",
    "For two continuous random variables, say $X$ and $Y$, the Joint Probability Density Function (PDF) is denoted as $f(x, y)$ and describes the probability density of $X$ and $Y$ taking values within a specific region in the $xy$-plane.\n",
    "\n",
    "- The general form of the Joint Probability Function for Continuous Random Variables:\n",
    "  $f(x, y) = P((X, Y) \\text{ falls in region } R)$\n",
    "\n",
    "Where $R$ is a region in the $xy$-plane."
   ]
  },
  {
   "cell_type": "markdown",
   "id": "81729a3d-6068-4ebf-a01c-8f60ecd35a46",
   "metadata": {
    "tags": []
   },
   "source": [
    "### Marginal Distributions\n",
    "\n",
    "Marginal distributions provide information about the individual probability distributions of each random variable in a joint probability distribution. In the context of multiple random variables, a marginal distribution focuses on one variable while ignoring the others. Here are some key points about marginal distributions:\n",
    "\n",
    "**Mathematical Formulas for Marginal Distributions:**\n",
    "\n",
    "For discrete random variables X and Y, the marginal PMF for X is given by:\n",
    "\n",
    "$P(X = x) = \\sum_{y} P(X = x, Y = y)$\n",
    "\n",
    "For continuous random variables X and Y, the marginal PDF for X is given by:\n",
    "\n",
    "$f_X(x) = \\int_{-\\infty}^{\\infty} f(x, y) \\, dy$\n",
    "\n",
    "<br>\n",
    "\n",
    "**Key Characteristics of Marginal Distributions:**\n",
    "\n",
    "1. **Individual Probability Distribution:** A marginal distribution represents the probability distribution of a single random variable while keeping the others fixed or marginalized.\n",
    "\n",
    "2. **Marginal Probability Function (PMF) for Discrete Variables:** For discrete random variables X and Y, the marginal PMF for X is calculated by summing the joint PMF over all possible values of Y. Mathematically:\n",
    "\n",
    "   $P(X = x) = \\sum_{y} P(X = x, Y = y)$\n",
    "\n",
    "3. **Marginal Probability Density Function (PDF) for Continuous Variables:** For continuous random variables X and Y, the marginal PDF for X is calculated by integrating the joint PDF over all possible values of Y. Mathematically:\n",
    "\n",
    "   $f_X(x) = \\int_{-\\infty}^{\\infty} f(x, y) \\, dy$\n",
    "\n",
    "4. **Use in Data Analysis:** Marginal distributions are valuable in data analysis when you want to analyze a single variable's behavior without considering its dependence on other variables.\n",
    "\n",
    "### Expectation (Mean), Variance, Covariance and Correlation\n",
    "<br>\n",
    "\n",
    "  - **Expectation (Mean) or $\\mu$** - The average of the random variable weighted by its probability distribution\n",
    "  <br><br>\n",
    "  - **Variance** - The expected value of the squared difference of the random variable and its mean, a measure of variation of the values of the random variable\n",
    "  <br><br>\n",
    "  - **Covariance** - shows the relationship between two variables $X$ and $Y$.\n",
    "  <br><br>\n",
    "  If $COV(X,Y) > 0$ then $X$, $Y$ have a direct relationship while it is inverse if $COV(X,Y)<0$\n",
    "  <br>\n",
    "  Since the $COV(X,Y)$ is affected by the actual magnitude of $X$,$Y$ – we cannot assess if it is large or small, the relationship strong or weak.\n",
    "  <br>\n",
    "  <br>\n",
    "   - **Correlation** - The correlation coefficient is free of units of $X$ and $Y$\n",
    "   <br>\n",
    "   When there is an exact linear relationship between $X$ and $Y$ such that $Y=a+bX$ then the correlation coefficient is either -1 or 1 following the sign of $b$\n",
    "   <br><br>\n",
    "  \n",
    "  \n",
    "\n",
    "### Independent Random Variables\n",
    "Two random variables, X and Y, are independent if and only if their joint probability distribution can be expressed as the product of their marginal probability distributions:\n",
    "\n",
    "$$P(X = x, Y = y) = P(X = x) \\cdot P(Y = y)$$\n",
    "\n",
    "for all possible values of x and y.\n",
    "\n",
    "<br> \n",
    "\n",
    "\n",
    "- **Probability Independence:** The probability of one random variable does not depend on the value of the other. That is, knowing the value of one variable does not change the probability distribution of the other.\n",
    "\n",
    "\n",
    "- **Expectation (Mean) and Variance:** The expectation (mean) and variance of the sum of independent random variables are equal to the sum of their individual expectations and variances, respectively.\n",
    "  - *Expectation (Mean) or $\\mu$* - $E(X + Y) = E(X) + E(Y)$\n",
    "  <br>\n",
    "  - *Variance* -  $Var(X + Y) = Var(X) + Var(Y)$\n",
    "  <br>\n",
    "  - *Standard Deviation* -  $SD(X + Y) = \\sqrt{Var(X + Y)} = \\sqrt{Var(X) + Var(Y)}$\n",
    "  <br>\n",
    "  <br>\n",
    "\n",
    "- **Covariance and Correlation:** <u>Independent random variables have a covariance of 0 and a correlation coefficient of 0</u>.\n",
    "$\\text{Cov}(X, Y) = 0$ and $\\text{Corr}(X, Y) = 0$.\n",
    "\n",
    "  \n",
    "- **Mathematical Formulas for Marginal Distributions:**\n",
    "\n",
    "  - For discrete random variables X and Y, the marginal PMF for X is given by: $P(X = x) = \\sum_{y} P(X = x, Y = y)$\n",
    "\n",
    "  - For continuous random variables X and Y, the marginal PDF for X is given by: $f_X(x) = \\int_{-\\infty}^{\\infty} f(x, y) \\, dy$\n",
    "  \n",
    "  <br>\n",
    "  \n",
    "- **Joint Probability Distribution:** The joint probability distribution of independent random variables can be factored into the product of their individual probability distributions.\n",
    "  - $P(X = x, Y = y) = P(X = x) \\cdot P(Y = y)$\n",
    "\n"
   ]
  },
  {
   "cell_type": "markdown",
   "id": "aedfbbe4-5427-4b06-8fa8-9f6b9f5054f1",
   "metadata": {},
   "source": [
    "### Chebyshev’s Inequality\n",
    "**Chebyshev's Inequality**, often referred to as **Chebyshev's Theorem** is a fundamental result in probability and statistics that provides an upper bound on the probability that a random variable deviates from its mean by a certain amount.\n",
    "\n",
    "Let $X$ be a random variable with mean $\\mu$ and variance $\\sigma^2$, and let $k$ be any positive constant. Then, for any $k > 0$:\n",
    "\n",
    "$$\n",
    "P(|X - \\mu| \\geq k\\sigma) \\leq \\frac{1}{k^2}\n",
    "$$\n",
    "\n",
    "- $P(|X - \\mu| \\geq k\\sigma)$ is the probability that the random variable $X$ deviates from its mean $\\mu$ by more than $k$ standard deviations ($k\\sigma$).\n",
    "- $k$ is a positive constant that determines how many standard deviations you want to consider.\n",
    "- $\\mu$ is the mean (expected value) of $X$.\n",
    "- $\\sigma$ is the standard deviation of $X$.\n",
    "\n",
    "Alternatively, you can express it as:\n",
    "\n",
    "$$\n",
    "P(\\mu - k\\sigma < X < \\mu + k\\sigma) \\geq 1 - \\frac{1}{k^2}\n",
    "$$\n"
   ]
  },
  {
   "cell_type": "markdown",
   "id": "df015861-cb9d-4563-8fea-f3cc562e9fbd",
   "metadata": {},
   "source": [
    "# Formula Cheat Sheet"
   ]
  },
  {
   "cell_type": "markdown",
   "id": "82a423d3-3429-4ab8-aee9-baf9573c56cc",
   "metadata": {},
   "source": [
    "| Property                      | Formula  <div style=\"width:300px\"></div>| Description   <div style=\"width:700px\"></div>        |\n",
    "|-------------------------------|----------------------------------------|-------------------------------------------------------|\n",
    "| **Mean (Expectation)**        | $E(X)$ or $\\mu$           | The expected value of a random variable X.           |\n",
    "|  |$\\mu = \\sum_x x \\cdot P(X = x)$             | The mean (expected value) of a discrete independent random variable X.           |\n",
    "|  |$\\mu =\\int x \\cdot f(x) \\, dx$             | The mean (expected value) of a continuous independent random variable X. <br> <br> The integral $\\int$ is used to sum over all possible values of $X$ weighted by their respective PDF values. <br> &nbsp;&nbsp; $x$ represents the values that $X$ can take<br> &nbsp;&nbsp; $f(x)$ represents the probability density function (PDF) of $X$.|\n",
    "| **Variance**                  | $Var(X) = E((X - \\mu)^2)$  <br><br> or simply, <br><br> $Var(X) = E(X^2) - \\mu^2 $         | A measure of the spread or dispersion of X.         |\n",
    "|| $Var(X) = \\sum_x (x - \\mu)^2 \\cdot P(X = x)$ |  The variance ($Var(X)$) of a discrete random variable $X$ <br><br> &nbsp;&nbsp; $x$ represents each possible value that $X$ can take.<br> &nbsp;&nbsp; $\\mu$ is the mean (expected value) of $X$.<br> &nbsp;&nbsp; $P(X = x)$ represents the probability that $X$ takes on the value $x$.<br> &nbsp;&nbsp; The summation $\\sum$ is used to sum over all possible values of $X$ weighted by their respective probabilities.|\n",
    "|| $Var(X) = \\int (x - \\mu)^2 \\cdot f(x) \\, dx$ | The variance ($Var(X)$) of a continuous random variable $X$ <br><br> &nbsp;&nbsp; $x$ represents the values that $X$ can take.<br> &nbsp;&nbsp; $\\mu$ is the mean (expected value) of $X$.<br> &nbsp;&nbsp; $f(x)$ represents the probability density function (PDF) of $X$.<br> &nbsp;&nbsp; The integral $\\int$ is used to integrate over all possible values of $X$ weighted by their respective PDF values.|\n",
    "| **Standard Deviation**        | $\\sigma = \\sqrt{Var(X)}$             | The square root of the variance.                     |\n",
    "| **Covariance**                | $\\text{Cov}(X, Y) = E((X - \\mu_X)(Y - \\mu_Y))$ <br><br> or simply, <br><br> $\\text{Cov}(X, Y) = E(XY) - \\mu_X\\mu_Y$ | A measure of the joint variability between X and Y. |\n",
    "|                               | $\\text{Cov}(aX, bY) = ab\\text{Cov}(X, Y)$ | The covariance of linear combinations of random variables. |\n",
    "| **Correlation Coefficient**   | $\\rho(X, Y) = \\frac{\\text{Cov}(X, Y)}{\\sigma_X \\sigma_Y}$ | Measures the strength and direction of the linear relationship between X and Y. |\n",
    "| **Independence**              | $P(X = x, Y = y) = P(X = x) \\cdot P(Y = y)$ | Two random variables X and Y are independent if their joint probability can be expressed as the product of their marginal probabilities. |\n",
    "| **Additive Properties**       | $E(X + Y) = E(X) + E(Y)$           | The expected value of the sum of random variables is the sum of their individual expected values. |\n",
    "|                               | $Var(X + Y) = Var(X) + Var(Y) + 2\\text{Cov}(X, Y)$ | The variance of the sum of random variables is the sum of their individual variances plus two times their covariance. |\n",
    "|                               | $Var(aX + bY) = a^2Var(X) + b^2Var(Y) + 2ab\\text{Cov}(X, Y)$ | The variance of a linear combination of random variables X and Y with coefficients a and b. |\n",
    "|**Chebyshev's Inequality** | $$P(|X - \\mu| \\geq k\\sigma) \\leq \\frac{1}{k^2}$$ $$\\text{or}$$ $$P(\\mu - k\\sigma < X < \\mu + k\\sigma) \\geq 1 - \\frac{1}{k^2}$$| |\n",
    "\n"
   ]
  },
  {
   "cell_type": "code",
   "execution_count": 18,
   "id": "7f29e656-f3e0-412e-b8dd-06de6c2b3e50",
   "metadata": {
    "execution": {
     "iopub.execute_input": "2023-10-31T03:24:03.613529Z",
     "iopub.status.busy": "2023-10-31T03:24:03.612770Z",
     "iopub.status.idle": "2023-10-31T03:24:03.635094Z",
     "shell.execute_reply": "2023-10-31T03:24:03.633522Z",
     "shell.execute_reply.started": "2023-10-31T03:24:03.613463Z"
    },
    "tags": []
   },
   "outputs": [
    {
     "name": "stdout",
     "output_type": "stream",
     "text": [
      "Mean (Expectation) of X: 196.9\n",
      "Mean (Expectation) of Y: 149.80000000000004\n",
      "Mean (Expectation): 346.70000000000005\n",
      "Variance of X: 424.39\n",
      "Variance of Y: 802.96\n",
      "Covariance between X and Y: 571.0999999999998\n",
      "Correlation between X and Y: 0.9783238331888462\n"
     ]
    }
   ],
   "source": [
    "# Example values and probabilities for random variable X and Y\n",
    "X = np.array([180, 200, 220, 240, 260])\n",
    "Y = np.array([120, 150, 180, 200, 220])\n",
    "\n",
    "probabilities_X = np.array([0.25 + 0.12 + 0.1 + 0.02 + 0,\n",
    "                            0.1 + 0.15 + 0.02 + 0.01 + 0,\n",
    "                            0.03 + 0.01 + 0.1 + 0.01 + 0,\n",
    "                            0.01 + 0.01 + 0.01 + 0.02 + 0.005,\n",
    "                            0 + 0 + 0.01 + 0.005 + 0.01])\n",
    "\n",
    "probabilities_Y = np.array([0.25 + 0.1 + 0.03 + 0.01 + 0,\n",
    "                            0.12 + 0.15 + 0.01 + 0.01 + 0,\n",
    "                            0.1 + 0.02 + 0.1 + 0.01 + 0.01,\n",
    "                            0.02 + 0.01 + 0.01 + 0.02 + 0.005,\n",
    "                            0 + 0 + 0 + 0.005 + 0.01])\n",
    "\n",
    "\n",
    "probabilities_XY = np.outer(probabilities_X, probabilities_Y)\n",
    "\n",
    "# Calculate the mean (expectation) of X\n",
    "mean_X = np.sum(X * probabilities_X)\n",
    "print(\"Mean (Expectation) of X:\", mean_X)\n",
    "\n",
    "# Calculate the mean (expectation) of Y\n",
    "mean_Y = np.sum(Y * probabilities_Y)\n",
    "print(\"Mean (Expectation) of Y:\", mean_Y)\n",
    "\n",
    "print(\"Mean (Expectation):\", mean_X + mean_Y)\n",
    "\n",
    "# Calculate the variance of X\n",
    "variance_X = np.sum((X - mean_X) ** 2 * probabilities_X)\n",
    "print(\"Variance of X:\", variance_X)\n",
    "\n",
    "# Calculate the variance of Y\n",
    "variance_Y = np.sum((Y - mean_Y) ** 2 * probabilities_Y)\n",
    "print(\"Variance of Y:\", variance_Y)\n",
    "\n",
    "# Calculate the covariance between X and Y \n",
    "covariance_XY = np.sum((X - mean_X) * (Y - mean_Y) * probabilities_XY)\n",
    "print(\"Covariance between X and Y:\", covariance_XY)\n",
    "\n",
    "# Calculate the correlation coefficient between X and Y \n",
    "correlation_XY = covariance_XY / (np.sqrt(variance_X) * np.sqrt(variance_Y))\n",
    "print(\"Correlation between X and Y:\", correlation_XY)"
   ]
  },
  {
   "cell_type": "markdown",
   "id": "31b5af45-a67d-4a7d-9467-cfa1e667a9db",
   "metadata": {},
   "source": [
    "# Special Probabilty Distibutions"
   ]
  },
  {
   "cell_type": "markdown",
   "id": "7365e7eb-b51c-4fbf-9217-d42ec08aa527",
   "metadata": {},
   "source": [
    "## Discrete Probability Distributions\n",
    "A **discrete probability distribution** is a mathematical function or table that describes the probabilities of all possible outcomes of a discrete random variable. A discrete random variable is a variable that can take on a countable number of distinct values, often integers."
   ]
  },
  {
   "cell_type": "markdown",
   "id": "186c0d48-505f-4e03-8561-5ac09e6889a9",
   "metadata": {
    "tags": []
   },
   "source": [
    "### Binomial Distribution\n",
    "\n",
    "The binomial distribution is a discrete probability distribution that models the number of successes (usually denoted as \n",
    "$X$) in a fixed number of independent and identical *Bernoulli trials* or *Bernoulli Process*, where each trial has two possible outcomes: success (typically denoted as 1) or failure (typically denoted as 0)\n",
    "\n",
    "**Random Variable**: number of success in $n$ trials\n",
    "\n",
    "The probability mass function (PMF) of the binomial distribution is used to calculate the probability of getting exactly $k$ successes in a fixed number of $n$ independent and identical Bernoulli trials, where each trial has two possible outcomes: success (typically denoted as 1) or failure (typically denoted as 0).\n",
    "\n",
    "The PMF of the binomial distribution is given by:\n",
    "\n",
    "$$\n",
    "P(X = k) = \\binom{n}{k} \\cdot p^k \\cdot (1 - p)^{n - k}\n",
    "$$\n",
    "\n",
    "Where:\n",
    "- $P(X = k)$ represents the probability of obtaining exactly $k$ successes in $n$ trials.\n",
    "- $\\binom{n}{k}$ is the binomial coefficient, representing the number of ways to choose $k$ successes out of $n$ trials.\n",
    "- $p^k$ is the probability of $k$ successes occurring.\n",
    "- $(1 - p)^{n - k}$ is the probability of $n - k$ failures occurring.\n",
    "<br><br>\n",
    "\n",
    "**Paremeters**\n",
    "<br>\n",
    "- $n$: The total number of trials.\n",
    "- $p$: The probability of success in each trial.\n",
    "\n",
    "<br>\n",
    "\n",
    "#### Bernouilli Process\n",
    "The Bernoulli process, named after Swiss mathematician Jacob Bernoulli, is a sequence of independent and identically distributed (i.i.d.) random variables that take on binary values, typically 0 and 1. It is often used to model a series of trials or experiments with only two possible outcomes, such as success (1) or failure (0).\n",
    "\n",
    "The key characteristics of a Bernoulli process are:\n",
    "\n",
    "1. **Independence**: Each trial is independent of the others, meaning that the outcome of one trial does not influence the outcomes of subsequent trials.\n",
    "\n",
    "2. **Identical Distribution**: The random variables in the sequence have the same probability distribution, which means they have the same probability of success and failure.\n",
    "\n",
    "3. **Binary Outcomes**: The random variables typically represent binary outcomes, where success is represented by 1 and failure by 0.\n",
    "\n",
    "4. **Constant Probability**: The probability of success, denoted as $p$, remains constant across all trials.\n",
    "\n",
    "A Bernoulli process can be used to model various real-world scenarios, such as coin flipping (heads or tails), whether a product is defective or not, the success or failure of online ad clicks, and more.\n",
    "\n",
    "The probability mass function (PMF) of a single trial in a Bernoulli process is given by:\n",
    "\n",
    "$$\n",
    "P(X = x) = \n",
    "\\begin{cases}\n",
    "    p, & \\text{if } x = 1 \\\\\n",
    "    1 - p, & \\text{if } x = 0\n",
    "\\end{cases}\n",
    "$$\n",
    "\n",
    "Where:\n",
    "- $X$ is the random variable representing the outcome of a single trial.\n",
    "- $p$ is the probability of success (i.e., $P(X = 1)$)."
   ]
  },
  {
   "cell_type": "code",
   "execution_count": 128,
   "id": "449d1581-d2a1-4315-873d-9e26e9a7460d",
   "metadata": {
    "execution": {
     "iopub.execute_input": "2023-10-24T11:27:56.287917Z",
     "iopub.status.busy": "2023-10-24T11:27:56.286456Z",
     "iopub.status.idle": "2023-10-24T11:27:56.298927Z",
     "shell.execute_reply": "2023-10-24T11:27:56.297093Z",
     "shell.execute_reply.started": "2023-10-24T11:27:56.287852Z"
    },
    "tags": []
   },
   "outputs": [
    {
     "name": "stdout",
     "output_type": "stream",
     "text": [
      "PMF for k=2: 0.3456\n"
     ]
    }
   ],
   "source": [
    "# Solving for PMF using the formula\n",
    "\n",
    "# Define the parameters\n",
    "n = 5  # Number of trials\n",
    "p = 0.4  # Probability of success\n",
    "\n",
    "# Define the value for which you want to calculate the PMF\n",
    "k = 2  # Number of successes\n",
    "\n",
    "# Calculate the PMF using the formula\n",
    "pmf = math.comb(n, k) * (p ** k) * ((1 - p) ** (n - k))\n",
    "\n",
    "print(f'PMF for k={k}: {pmf}')"
   ]
  },
  {
   "cell_type": "code",
   "execution_count": 36,
   "id": "e2983f30-1e8b-4a4c-86d8-e3d21ee61dd5",
   "metadata": {
    "execution": {
     "iopub.execute_input": "2023-10-31T03:39:50.036085Z",
     "iopub.status.busy": "2023-10-31T03:39:50.035372Z",
     "iopub.status.idle": "2023-10-31T03:39:50.052653Z",
     "shell.execute_reply": "2023-10-31T03:39:50.051036Z",
     "shell.execute_reply.started": "2023-10-31T03:39:50.036024Z"
    },
    "tags": []
   },
   "outputs": [
    {
     "name": "stdout",
     "output_type": "stream",
     "text": [
      "PMF for k=4: 0.19556245883794238\n",
      "CDF for k=4: 0.6288370004326335\n"
     ]
    }
   ],
   "source": [
    "# Solving for PMF using scipy\n",
    "\n",
    "# Define the parameters\n",
    "n = 2000  # Number of trials\n",
    "p = 0.002  # Probability of success\n",
    "\n",
    "# Define the value for which you want to calculate the PMF\n",
    "k = 4  # Number of successes\n",
    "\n",
    "# Create a binomial distribution object\n",
    "binom_dist = stats.binom(n, p)\n",
    "\n",
    "# Calculate the PMF using the pmf() method\n",
    "pmf = binom_dist.pmf(k)\n",
    "\n",
    "print(f'PMF for k={k}: {pmf}')\n",
    "\n",
    "cdf = binom_dist.cdf(k)\n",
    "\n",
    "print(f'CDF for k={k}: {cdf}')"
   ]
  },
  {
   "cell_type": "markdown",
   "id": "7d8120b3-cecc-44ac-b256-bcaf85577e3d",
   "metadata": {},
   "source": [
    "### Multinomial Distribution\n",
    "\n",
    "A multinomial experiment is a statistical experiment that generalizes the concept of a binomial experiment. In a multinomial experiment, you have multiple categories or outcomes, and each trial can result in one of these categories. \n",
    "\n",
    "The mathematical formula for the probability of a specific combination of outcomes in a multinomial experiment is:\n",
    "\n",
    "$$\n",
    "P(X_1 = x_1, X_2 = x_2, \\ldots, X_k = x_k) = \\frac{n!}{x_1! \\cdot x_2! \\cdot \\ldots \\cdot x_k!} \\cdot p_1^{x_1} \\cdot p_2^{x_2} \\cdot \\ldots \\cdot p_k^{x_k}\n",
    "$$\n",
    "\n",
    "Where:\n",
    "- $n$ is the total number of trials.\n",
    "- $k$ is the number of categories or outcomes.\n",
    "- $X_1, X_2, \\ldots, X_k$ are the counts of trials in each category.\n",
    "- $x_1, x_2, \\ldots, x_k$ are the specific counts in each category.\n",
    "- $p_1, p_2, \\ldots, p_k$ are the probabilities of each category.\n",
    "\n",
    "In this formula, $x_1! \\cdot x_2! \\cdot \\ldots \\cdot x_k!$ represents the product of factorials for each count in the categories.\n",
    "The mathematical formula for the probability of a specific combination of outcomes in a multinomial experiment is:"
   ]
  },
  {
   "cell_type": "code",
   "execution_count": 22,
   "id": "1350f91b-cd24-482b-bae1-95ec932aa5bc",
   "metadata": {
    "execution": {
     "iopub.execute_input": "2023-10-23T12:52:36.741716Z",
     "iopub.status.busy": "2023-10-23T12:52:36.741057Z",
     "iopub.status.idle": "2023-10-23T12:52:36.754321Z",
     "shell.execute_reply": "2023-10-23T12:52:36.752803Z",
     "shell.execute_reply.started": "2023-10-23T12:52:36.741656Z"
    },
    "tags": []
   },
   "outputs": [
    {
     "name": "stdout",
     "output_type": "stream",
     "text": [
      "Probability: 0.0353\n"
     ]
    }
   ],
   "source": [
    "#Using Mathematical formula\n",
    "\n",
    "# Define the probabilities for each category\n",
    "p1 = 0.3  # Probability of category 1\n",
    "p2 = 0.4  # Probability of category 2\n",
    "p3 = 0.3  # Probability of category 3\n",
    "\n",
    "# Define the counts for each category\n",
    "x1 = 2  # Count in category 1\n",
    "x2 = 3  # Count in category 2\n",
    "x3 = 5  # Count in category 3\n",
    "\n",
    "# Total number of trials\n",
    "n = 10\n",
    "\n",
    "# Calculate the probability using the multinomial formula\n",
    "probability = (math.factorial(n) / (math.factorial(x1) * math.factorial(x2) * math.factorial(x3))) * (p1**x1) * (p2**x2) * (p3**x3)\n",
    "\n",
    "print(f'Probability: {probability:.4f}')"
   ]
  },
  {
   "cell_type": "code",
   "execution_count": 23,
   "id": "c53d5ff6-ad44-4aac-9414-7f5102d76a49",
   "metadata": {
    "execution": {
     "iopub.execute_input": "2023-10-23T12:52:36.757821Z",
     "iopub.status.busy": "2023-10-23T12:52:36.757045Z",
     "iopub.status.idle": "2023-10-23T12:52:36.767657Z",
     "shell.execute_reply": "2023-10-23T12:52:36.766089Z",
     "shell.execute_reply.started": "2023-10-23T12:52:36.757767Z"
    },
    "tags": []
   },
   "outputs": [
    {
     "name": "stdout",
     "output_type": "stream",
     "text": [
      "Probability: 0.0353\n"
     ]
    }
   ],
   "source": [
    "#Using SciPy\n",
    "\n",
    "# Define the probabilities for each category\n",
    "p = [0.3, 0.4, 0.3]  # Probabilities for category 1, category 2, and category 3\n",
    "\n",
    "# Define the counts for each category\n",
    "x = [2, 3, 5]  # Counts for category 1, category 2, and category 3\n",
    "\n",
    "# Total number of trials\n",
    "n = 10\n",
    "\n",
    "# Calculate the probability using SciPy's multinomial PMF\n",
    "probability = stats.multinomial.pmf(x, n, p)\n",
    "\n",
    "print(f'Probability: {probability:.4f}')"
   ]
  },
  {
   "cell_type": "markdown",
   "id": "0f1643d5-4b59-4eee-bfae-c6f88334c85f",
   "metadata": {},
   "source": [
    "### Hypergeometric Distribution\n",
    "\n",
    "The **hypergeometric distribution** is a probability distribution that describes the probability of drawing a specific number of successes in a sample without replacement from a finite population of two classes (success and failure). This distribution is often used to model scenarios where the sampling is done without replacement and where the proportion of successes is not fixed.\n",
    "\n",
    "The probability mass function (PMF) of the hypergeometric distribution is given by:\n",
    "\n",
    "$$P(X = k) = \\frac{{\\binom{K}{k} \\cdot \\binom{N-K}{n-k}}}{{\\binom{N}{n}}}$$\n",
    "\n",
    "Where:\n",
    "- $\\binom{K}{k}$ is the binomial coefficient representing the number of ways to choose $k$ successes from $K$ success items.\n",
    "- $\\binom{N-K}{n-k}$ is the binomial coefficient representing the number of ways to choose $n-k$ failures from $N-K$ failure items.\n",
    "- $\\binom{N}{n}$ is the binomial coefficient representing the total number of ways to choose $n$ items from $N$ total items in the population.\n",
    "\n",
    "The hypergeometric distribution allows you to calculate the probability of drawing exactly k success items in a sample of size n drawn without replacement from a population of size N containing K success items.\n",
    "\n",
    "**Parameters**\n",
    "\n",
    "- $N$: Total population size.\n",
    "- $K$: Number of success items in the population.\n",
    "- $n$: Sample size drawn from the population.\n",
    "- $k$: Number of success items in the sampleThe hypergeometric distribution allows you to calculate the probability of drawing exactly \n"
   ]
  },
  {
   "cell_type": "code",
   "execution_count": 43,
   "id": "5d05b55a-6c98-41c4-aabc-843a9e006374",
   "metadata": {
    "execution": {
     "iopub.execute_input": "2023-10-31T03:48:12.821697Z",
     "iopub.status.busy": "2023-10-31T03:48:12.820907Z",
     "iopub.status.idle": "2023-10-31T03:48:12.835168Z",
     "shell.execute_reply": "2023-10-31T03:48:12.833698Z",
     "shell.execute_reply.started": "2023-10-31T03:48:12.821626Z"
    },
    "tags": []
   },
   "outputs": [
    {
     "name": "stdout",
     "output_type": "stream",
     "text": [
      "Probability: 0.3251\n"
     ]
    }
   ],
   "source": [
    "# Using the Mathematical Formula\n",
    "\n",
    "# Define the parameters for the hypergeometric distribution\n",
    "N = 52  # Total number of cards in the deck\n",
    "K = 26  # Total number of red cards in the deck\n",
    "n = 5   # Number of cards drawn\n",
    "k = 2   # Number of red cards to be drawn\n",
    "\n",
    "# Calculate the probability using the hypergeometric formula\n",
    "probability = (math.comb(K, k) * math.comb(N - K, n - k)) / math.comb(N, n)\n",
    "\n",
    "print(f'Probability: {probability:.4f}')"
   ]
  },
  {
   "cell_type": "code",
   "execution_count": 25,
   "id": "23c59134-d366-4332-a11c-3310808fd1f4",
   "metadata": {
    "execution": {
     "iopub.execute_input": "2023-10-23T12:52:37.425086Z",
     "iopub.status.busy": "2023-10-23T12:52:37.423903Z",
     "iopub.status.idle": "2023-10-23T12:52:37.435980Z",
     "shell.execute_reply": "2023-10-23T12:52:37.434138Z",
     "shell.execute_reply.started": "2023-10-23T12:52:37.425024Z"
    },
    "tags": []
   },
   "outputs": [
    {
     "name": "stdout",
     "output_type": "stream",
     "text": [
      "Probability: 0.3251\n"
     ]
    }
   ],
   "source": [
    "#Using SciPy\n",
    "\n",
    "# Define the parameters for the hypergeometric distribution\n",
    "N = 52  # Total number of cards in the deck\n",
    "K = 26  # Total number of red cards in the deck\n",
    "n = 5   # Number of cards drawn\n",
    "k = 2   # Number of red cards to be drawn\n",
    "\n",
    "# Calculate the probability using SciPy's hypergeometric PMF\n",
    "probability = stats.hypergeom.pmf(k, N, K, n)\n",
    "\n",
    "print(f'Probability: {probability:.4f}')"
   ]
  },
  {
   "cell_type": "markdown",
   "id": "1716f47f-0077-4ed0-8565-92d83a430733",
   "metadata": {},
   "source": [
    "### Negative Binomial Distribution\n",
    "\n",
    "The negative binomial distribution is a probability distribution that models the number of Bernoulli trials required for a given number of successes to occur. It is often used to describe the probability of the $r$-th success occurring on the $x$-th trial.\n",
    "\n",
    "The probability mass function (PMF) of the **number of failures** of the negative binomial distribution is given by:\n",
    "\n",
    "$$P(X = x) = \\binom{r + x - 1}{x - 1} \\cdot p^x \\cdot (1 - p)^r$$\n",
    "\n",
    "\n",
    "Where:\n",
    "- $x$ is the number of trials until the $r$-th success.\n",
    "- $r$ is the number of successes.\n",
    "- $p$ is the probability of success on an individual trial.\n",
    "\n",
    "**Parameters**\n",
    "\n",
    "- $x$ is the number of trials until the $r$-th success.\n",
    "- $r$ is the number of successes.\n",
    "- $p$ is the probability of success on an individual trial.\n"
   ]
  },
  {
   "cell_type": "code",
   "execution_count": 75,
   "id": "e0b21247-aa27-48c2-abcc-2a500089a63d",
   "metadata": {
    "execution": {
     "iopub.execute_input": "2023-11-02T13:15:24.154891Z",
     "iopub.status.busy": "2023-11-02T13:15:24.154161Z",
     "iopub.status.idle": "2023-11-02T13:15:24.167598Z",
     "shell.execute_reply": "2023-11-02T13:15:24.165982Z",
     "shell.execute_reply.started": "2023-11-02T13:15:24.154826Z"
    },
    "tags": []
   },
   "outputs": [
    {
     "name": "stdout",
     "output_type": "stream",
     "text": [
      "Probability: 0.05505024000000003\n"
     ]
    }
   ],
   "source": [
    "# Using Mathematical Formula\n",
    "def negative_binomial_pmf(x, r, p):\n",
    "    # Calculate the probability using the negative binomial formula\n",
    "    probability = math.comb(r + x - 1, r - 1) * (p**r) * ((1 - p)**x)\n",
    "    return probability\n",
    "\n",
    "# Define the parameters\n",
    "x = 5   # Number of trials until the 3rd success\n",
    "r = 3   # Number of successes\n",
    "p = 0.2 # Probability of success on an individual trial\n",
    "\n",
    "# Calculate the probability using the negative binomial formula\n",
    "probability = negative_binomial_pmf(x, r, p)\n",
    "\n",
    "print(f'Probability: {probability}')"
   ]
  },
  {
   "cell_type": "code",
   "execution_count": 72,
   "id": "bea1c4f6-6091-462e-b5a3-aceb2ee4fef3",
   "metadata": {
    "execution": {
     "iopub.execute_input": "2023-11-02T13:15:02.191326Z",
     "iopub.status.busy": "2023-11-02T13:15:02.190602Z",
     "iopub.status.idle": "2023-11-02T13:15:02.203018Z",
     "shell.execute_reply": "2023-11-02T13:15:02.201125Z",
     "shell.execute_reply.started": "2023-11-02T13:15:02.191264Z"
    },
    "tags": []
   },
   "outputs": [
    {
     "name": "stdout",
     "output_type": "stream",
     "text": [
      "Probability: 0.05505024000000004\n"
     ]
    }
   ],
   "source": [
    "# Using SciPy\n",
    "\n",
    "# Define the parameters\n",
    "x = 5   # Number of trials until the success (less than 4 tosses needed)\n",
    "r = 3  # Number of successes\n",
    "p = 0.2  # Probability of success on an individual trial\n",
    "\n",
    "# Calculate the probability using SciPy's negative binomial PMF\n",
    "probability = stats.nbinom.pmf(x, r, p)\n",
    "\n",
    "print(f'Probability: {probability}')"
   ]
  },
  {
   "cell_type": "markdown",
   "id": "d3a6dc0f-4dd5-4152-9075-5f5096f656bc",
   "metadata": {},
   "source": [
    "### Poisson\n",
    "\n",
    "The **Poisson distribution** is a probability distribution that describes the number of events occurring within a fixed interval of time or space, assuming that these events occur with a known constant mean rate and are independent of the time since the last event.\n",
    "\n",
    "The probability mass function (PMF) of the Poisson distribution is given by:\n",
    "\n",
    "$$P(X = k) = \\frac{{e^{-\\lambda} \\cdot \\lambda^k}}{{k!}}$$\n",
    "\n",
    "Where:\n",
    "\n",
    "- $k$ is the number of events (e.g., occurrences, arrivals).\n",
    "- $λ$ is the average rate of events within the specified interval.\n",
    "- $e$ is the base of the natural logarithm (approximately 2.71828).\n",
    "\n",
    "**Parameters**\n",
    "- $k$ is the number of events (e.g., occurrences, arrivals).\n",
    "- $λ$ is the average rate of events within the specified interval."
   ]
  },
  {
   "cell_type": "code",
   "execution_count": 66,
   "id": "9763a2e6-1034-4781-b7e4-c14e66195091",
   "metadata": {
    "execution": {
     "iopub.execute_input": "2023-10-31T04:38:28.681987Z",
     "iopub.status.busy": "2023-10-31T04:38:28.681758Z",
     "iopub.status.idle": "2023-10-31T04:38:28.689134Z",
     "shell.execute_reply": "2023-10-31T04:38:28.688107Z",
     "shell.execute_reply.started": "2023-10-31T04:38:28.681967Z"
    },
    "tags": []
   },
   "outputs": [
    {
     "name": "stdout",
     "output_type": "stream",
     "text": [
      "0.36787944117144233\n",
      "Probability: 0.36787944117144233\n",
      "0.36787944117144233\n",
      "Probability: 0.1353352832366127\n",
      "0.18393972058572117\n",
      "Probability: 0.024893534183931976\n",
      "0.06131324019524039\n",
      "Probability: 0.0015263032407278488\n",
      "0.015328310048810098\n",
      "Probability: 2.3395649302380104e-05\n",
      "0.0030656620097620196\n",
      "Probability: 7.172315326002197e-08\n",
      "0.0005109436682936699\n",
      "Probability: 3.664649102826472e-11\n",
      "7.299195261338141e-05\n",
      "Probability: 2.6748989365818053e-15\n",
      "9.123994076672677e-06\n",
      "Probability: 2.4405762053070432e-20\n",
      "1.0137771196302974e-06\n",
      "Probability: 2.4742003156544155e-26\n"
     ]
    }
   ],
   "source": [
    "# Using mathematical formula\n",
    "\n",
    "# Define the parameters\n",
    "k = 2       # Number of events\n",
    "lambda_ = 1  # Average rate of events\n",
    "\n",
    "# # Calculate the probability using the Poisson formula\n",
    "# probability = (math.exp(-lambda_) * lambda_**k) / math.factorial(k)\n",
    "\n",
    "# print(f'Probability: {probability:.4f}')\n",
    "\n",
    "probability = 1\n",
    "for k in range(0, 10):\n",
    "    # Calculate the probability using the Poisson formula\n",
    "    temp = abs(math.exp(-lambda_) * lambda_**k) / math.factorial(k)\n",
    "    print(temp)\n",
    "    probability *= temp\n",
    "\n",
    "    print(f'Probability: {probability}')"
   ]
  },
  {
   "cell_type": "code",
   "execution_count": 51,
   "id": "353de977-9aa5-46a7-9e17-a0edf878661a",
   "metadata": {
    "execution": {
     "iopub.execute_input": "2023-10-31T03:57:38.047649Z",
     "iopub.status.busy": "2023-10-31T03:57:38.046912Z",
     "iopub.status.idle": "2023-10-31T03:57:38.058978Z",
     "shell.execute_reply": "2023-10-31T03:57:38.057178Z",
     "shell.execute_reply.started": "2023-10-31T03:57:38.047586Z"
    },
    "tags": []
   },
   "outputs": [
    {
     "name": "stdout",
     "output_type": "stream",
     "text": [
      "Probability: 0.6288369351798734\n"
     ]
    }
   ],
   "source": [
    "# Using SciPy\n",
    "\n",
    "# Define the parameters\n",
    "k = 4  # Number of events\n",
    "lambda_ = 4  # Average rate of events\n",
    "\n",
    "# Calculate the probability using SciPy's Poisson PMF\n",
    "probability = stats.poisson.cdf(k, lambda_)\n",
    "\n",
    "print(f'Probability: {probability}')"
   ]
  },
  {
   "cell_type": "code",
   "execution_count": 52,
   "id": "d03f13c2-f2b7-42fd-840e-0a13d65fd52a",
   "metadata": {
    "execution": {
     "iopub.execute_input": "2023-10-31T03:58:18.148611Z",
     "iopub.status.busy": "2023-10-31T03:58:18.147840Z",
     "iopub.status.idle": "2023-10-31T03:58:18.159519Z",
     "shell.execute_reply": "2023-10-31T03:58:18.157892Z",
     "shell.execute_reply.started": "2023-10-31T03:58:18.148547Z"
    },
    "tags": []
   },
   "outputs": [
    {
     "name": "stdout",
     "output_type": "stream",
     "text": [
      "Probability: 0.1334\n"
     ]
    }
   ],
   "source": [
    "# Using SciPy\n",
    "\n",
    "# Define the parameters\n",
    "k = 7       # Number of events\n",
    "lambda_ = 5  # Average rate of events\n",
    "\n",
    "# Calculate the probability using SciPy's Poisson PMF\n",
    "probability = 1 - stats.poisson.cdf(k, lambda_)\n",
    "\n",
    "print(f'Probability: {probability:.4f}')"
   ]
  },
  {
   "cell_type": "markdown",
   "id": "79c829d8-8cf9-4c46-acae-359bd9a4fab1",
   "metadata": {},
   "source": [
    "## Continuous Probability Distributions\n",
    "Continuous probability distributions are statistical distributions that describe the probabilities of outcomes within a continuous and uncountable range of values. These distributions are typically used to model random variables that can take on any real number within a certain interval. Unlike discrete probability distributions, continuous probability distributions deal with variables that can assume an infinite number of possible values.\n",
    "\n",
    "In continuous probability distributions, the probability of any specific value is usually zero. Instead, probabilities are associated with intervals or ranges of values. The probability density function (PDF) is commonly used to describe the likelihood of a random variable falling within a particular interval.\n",
    "\n",
    "### Normal Distribution (Gaussian)\n",
    "\n",
    "The Gaussian distribution, also known as the Normal distribution, is a continuous probability distribution that is widely used in statistics and probability theory. It is characterized by its bell-shaped curve and is often used to model the distribution of various naturally occurring phenomena and measurements.\n",
    "\n",
    "The probability density function (PDF) of the Gaussian (Normal) distribution is given by:\n",
    "\n",
    "$$f(x) = \\frac{1}{{\\sigma \\sqrt{2\\pi}}} e^{-\\frac{{(x - \\mu)^2}}{{2\\sigma^2}}}$$\n",
    "\n",
    "Where:\n",
    "- $x$ is a random variable.\n",
    "- $μ$ is the mean (average) of the distribution.\n",
    "- $σ$ is the standard deviation, representing the spread or dispersion of the data.\n",
    "- $π$ is a mathematical constant, approximately equal to 3.14159.\n"
   ]
  },
  {
   "cell_type": "code",
   "execution_count": 30,
   "id": "91b6c843-ec84-45b2-9a87-226b4a1e4eb3",
   "metadata": {
    "execution": {
     "iopub.execute_input": "2023-10-23T12:52:37.615315Z",
     "iopub.status.busy": "2023-10-23T12:52:37.614867Z",
     "iopub.status.idle": "2023-10-23T12:52:37.625453Z",
     "shell.execute_reply": "2023-10-23T12:52:37.623954Z",
     "shell.execute_reply.started": "2023-10-23T12:52:37.615274Z"
    },
    "tags": []
   },
   "outputs": [
    {
     "name": "stdout",
     "output_type": "stream",
     "text": [
      "Probability Density: 0.2516\n"
     ]
    }
   ],
   "source": [
    "# Using mathematical formula\n",
    "\n",
    "def gaussian_pdf(x, mu, sigma):\n",
    "    # Calculate the probability density using the Gaussian PDF formula\n",
    "    pdf = (1 / (sigma * math.sqrt(2 * math.pi))) * math.exp(-((x - mu)**2) / (2 * sigma**2))\n",
    "    return pdf\n",
    "\n",
    "# Define the parameters\n",
    "x = 2.5  # Random variable\n",
    "mu = 3.0  # Mean of the distribution\n",
    "sigma = 1.5  # Standard deviation\n",
    "\n",
    "# Calculate the probability density using the mathematical formula\n",
    "pdf = gaussian_pdf(x, mu, sigma)\n",
    "\n",
    "print(f'Probability Density: {pdf:.4f}')"
   ]
  },
  {
   "cell_type": "code",
   "execution_count": 31,
   "id": "066348e7-3bdb-4e48-ab04-703fddcb8f83",
   "metadata": {
    "execution": {
     "iopub.execute_input": "2023-10-23T12:52:37.629008Z",
     "iopub.status.busy": "2023-10-23T12:52:37.628167Z",
     "iopub.status.idle": "2023-10-23T12:52:37.637247Z",
     "shell.execute_reply": "2023-10-23T12:52:37.635927Z",
     "shell.execute_reply.started": "2023-10-23T12:52:37.628963Z"
    },
    "tags": []
   },
   "outputs": [
    {
     "name": "stdout",
     "output_type": "stream",
     "text": [
      "Probability Density: 0.2516\n"
     ]
    }
   ],
   "source": [
    "# Using SciPy\n",
    "\n",
    "# Define the parameters\n",
    "x = 2.5  # Random variable\n",
    "mu = 3.0  # Mean of the distribution\n",
    "sigma = 1.5  # Standard deviation\n",
    "\n",
    "# Calculate the probability density using SciPy's Gaussian PDF (norm.pdf)\n",
    "pdf = stats.norm.pdf(x, loc=mu, scale=sigma)\n",
    "\n",
    "print(f'Probability Density: {pdf:.4f}')"
   ]
  },
  {
   "cell_type": "markdown",
   "id": "37773555-ee6b-487f-bbba-11828182f63c",
   "metadata": {},
   "source": [
    "### Gamma Distribution\n",
    "\n",
    "The Gamma distribution is a continuous probability distribution that is used to model the time it takes for a Poisson process to reach a certain number of eventsThe Gamma distribution is a continuous probability distribution that is used to model the time it takes for a Poisson process to reach a certain number of events\n",
    "\n",
    "The probability density function (PDF) of the Gamma distribution is given by:\n",
    "\n",
    "$$f(x; k, \\theta) = \\frac{1}{{\\Gamma(k)\\theta^k}} x^{k-1} e^{-\\frac{x}{\\theta}}$$\n",
    "\n",
    "Where:\n",
    "\n",
    "- $x$ is a random variable.\n",
    "- $k$ is the shape parameter.\n",
    "- $θ$ is the scale parameter.\n",
    "- $Γ(k)$ is the gamma function.\n",
    "\n",
    "#### Poisson Process\n",
    "\n",
    "The Poisson process itself describes the arrival of events over time, where events are independent and occur at a constant rate ($λ$).\n",
    "\n",
    "The rate ($λ$) is related to the parameters of the Gamma distribution as $λ=\\frac{k}{θ}$\n",
    "\n",
    "The Gamma distribution is used to model the waiting time for the $k$-th event in the Poisson process"
   ]
  },
  {
   "cell_type": "code",
   "execution_count": 32,
   "id": "930289bd-069f-454a-a9f0-dfc681d66fec",
   "metadata": {
    "execution": {
     "iopub.execute_input": "2023-10-23T12:52:38.001136Z",
     "iopub.status.busy": "2023-10-23T12:52:38.000449Z",
     "iopub.status.idle": "2023-10-23T12:52:38.013906Z",
     "shell.execute_reply": "2023-10-23T12:52:38.012114Z",
     "shell.execute_reply.started": "2023-10-23T12:52:38.001077Z"
    },
    "tags": []
   },
   "outputs": [
    {
     "name": "stdout",
     "output_type": "stream",
     "text": [
      "Probability Density: 0.2099\n"
     ]
    }
   ],
   "source": [
    "# Using mathematical formula \n",
    "\n",
    "def gamma_pdf(x, k, theta):\n",
    "    # Calculate the probability density using the Gamma PDF formula\n",
    "    pdf = (1 / (math.gamma(k) * (theta ** k))) * (x ** (k - 1)) * math.exp(-x / theta)\n",
    "    return pdf\n",
    "\n",
    "# Define the parameters\n",
    "x = 2.5  # Random variable\n",
    "k = 2.0  # Shape parameter\n",
    "theta = 1.5  # Scale parameter\n",
    "\n",
    "# Calculate the probability density using the mathematical formula\n",
    "pdf = gamma_pdf(x, k, theta)\n",
    "\n",
    "print(f'Probability Density: {pdf:.4f}')"
   ]
  },
  {
   "cell_type": "code",
   "execution_count": 33,
   "id": "d9883f6e-05a8-47b3-9849-c3827cce6862",
   "metadata": {
    "execution": {
     "iopub.execute_input": "2023-10-23T12:52:38.017594Z",
     "iopub.status.busy": "2023-10-23T12:52:38.016615Z",
     "iopub.status.idle": "2023-10-23T12:52:38.027586Z",
     "shell.execute_reply": "2023-10-23T12:52:38.025749Z",
     "shell.execute_reply.started": "2023-10-23T12:52:38.017541Z"
    },
    "tags": []
   },
   "outputs": [
    {
     "name": "stdout",
     "output_type": "stream",
     "text": [
      "Probability Density: 0.2099\n"
     ]
    }
   ],
   "source": [
    "# Using SciPy\n",
    "\n",
    "# Define the parameters\n",
    "x = 2.5  # Random variable\n",
    "k = 2.0  # Shape parameter\n",
    "theta = 1.5  # Scale parameter\n",
    "\n",
    "# Calculate the probability density using SciPy's Gamma PDF (gamma.pdf)\n",
    "pdf = stats.gamma.pdf(x, a=k, scale=theta)\n",
    "\n",
    "print(f'Probability Density: {pdf:.4f}')"
   ]
  },
  {
   "cell_type": "markdown",
   "id": "83e48083-1f5c-4989-9c30-fd89aded6f6f",
   "metadata": {},
   "source": [
    "### Exponential Distribution\n",
    "The Exponential distribution is a continuous probability distribution that models the time between events in a process that occurs at a constant average rate.\n",
    " \n",
    "It is characterized by the probability density function (PDF): \n",
    "\n",
    "$$ f(x; \\lambda) = \\lambda e^{-\\lambda x} $$\n",
    "\n",
    "Where:\n",
    "- $x$ is a random variable representing the time between events.\n",
    "- $λ$ is the rate parameter, representing the average rate of events per unit time."
   ]
  },
  {
   "cell_type": "code",
   "execution_count": 34,
   "id": "5dc4979a-a66f-4158-8dc4-8492e06ba2e7",
   "metadata": {
    "execution": {
     "iopub.execute_input": "2023-10-23T12:52:38.057703Z",
     "iopub.status.busy": "2023-10-23T12:52:38.057062Z",
     "iopub.status.idle": "2023-10-23T12:52:38.069146Z",
     "shell.execute_reply": "2023-10-23T12:52:38.067222Z",
     "shell.execute_reply.started": "2023-10-23T12:52:38.057646Z"
    },
    "tags": []
   },
   "outputs": [
    {
     "name": "stdout",
     "output_type": "stream",
     "text": [
      "Probability Density: 0.1472\n"
     ]
    }
   ],
   "source": [
    "# Using mathematical formula\n",
    "\n",
    "def exponential_pdf(x, rate):\n",
    "    # Calculate the probability density using the Exponential PDF formula\n",
    "    pdf = rate * math.exp(-rate * x)\n",
    "    return pdf\n",
    "\n",
    "# Define the parameters\n",
    "x = 2.5  # Random variable (time between events)\n",
    "rate = 0.4  # Rate parameter\n",
    "\n",
    "# Calculate the probability density using the mathematical formula\n",
    "pdf = exponential_pdf(x, rate)\n",
    "\n",
    "print(f'Probability Density: {pdf:.4f}')"
   ]
  },
  {
   "cell_type": "code",
   "execution_count": 35,
   "id": "b240072d-c57d-4060-9ed1-94547e4ad87e",
   "metadata": {
    "execution": {
     "iopub.execute_input": "2023-10-23T12:52:38.073690Z",
     "iopub.status.busy": "2023-10-23T12:52:38.072210Z",
     "iopub.status.idle": "2023-10-23T12:52:38.083034Z",
     "shell.execute_reply": "2023-10-23T12:52:38.081592Z",
     "shell.execute_reply.started": "2023-10-23T12:52:38.073629Z"
    },
    "tags": []
   },
   "outputs": [
    {
     "name": "stdout",
     "output_type": "stream",
     "text": [
      "Probability Density: 0.1472\n"
     ]
    }
   ],
   "source": [
    "# Using SciPy\n",
    "\n",
    "# Define the parameters\n",
    "x = 2.5  # Random variable (time between events)\n",
    "rate = 0.4  # Rate parameter\n",
    "\n",
    "# Calculate the probability density using SciPy's Exponential PDF (expon.pdf)\n",
    "pdf = stats.expon.pdf(x, scale=1/rate)\n",
    "\n",
    "print(f'Probability Density: {pdf:.4f}')"
   ]
  },
  {
   "cell_type": "markdown",
   "id": "d8b19ca1-82c7-4226-b7f7-60ab015ed51a",
   "metadata": {},
   "source": [
    "# Distribution Cheatsheet\n",
    "\n",
    "| Term <div style=\"width=300px\"></div>  | Expression <div style=\"width:200px\"></div> | Interpretation <div style=\"width:550px\"></div>         |\n",
    "|------------------------|----------------------------------------|-------------------------------------------------|\n",
    "| $$P(X=x)$$         | $ \\text{pmf}(x) $ (for discrete) <br>  $ \\text{pdf}(x) $ (for continuous) | The probability of the random variable $X$ taking on the specific value $x$. |\n",
    "| $$P(X\\leq x)$$       | $ \\text{cdf}(x) $                    | The cumulative probability that $X$ is less than or equal to $x$. |\n",
    "| $$P(X>x)$$          | $ 1 - \\text{cdf}(x) $                | The probability that $X$ is greater than $x$. |\n",
    "| $$P(x_1\\leq X\\leq x_2)$$ | $ \\text{cdf}(x_2) - \\text{cdf}(x_1) $ | The probability that $X$ falls between $x_1$ and $x_2$, inclusive. |\n",
    "| $$P(X>x_1)\\cup P(X<x_2)$$ | $ 1 - \\text{cdf}(x_1) + \\text{cdf}(x_2) $ | The probability that $X$ is greater than $x_1$ union $X$ less than $x_2$. |\n",
    "| $${PPF}(\\alpha)$$    | $ \\text{ppf}(\\alpha) $            |  The value $x$ for which the cumulative probability $CDF(x)$ is equal to the specified probability $\\alpha$ <br><br> $\n",
    "\\text{PPF}(\\alpha) = x \\quad$ such that $\\quad \\text{CDF}(x) = \\alpha\n",
    "$ |\n"
   ]
  },
  {
   "cell_type": "code",
   "execution_count": 92,
   "id": "29be1626-2cf3-4ac0-9865-72e274d161a3",
   "metadata": {
    "execution": {
     "iopub.execute_input": "2023-10-23T14:34:52.093115Z",
     "iopub.status.busy": "2023-10-23T14:34:52.091903Z",
     "iopub.status.idle": "2023-10-23T14:34:52.113267Z",
     "shell.execute_reply": "2023-10-23T14:34:52.111758Z",
     "shell.execute_reply.started": "2023-10-23T14:34:52.093045Z"
    },
    "tags": []
   },
   "outputs": [
    {
     "data": {
      "text/plain": [
       "5.409999999999998"
      ]
     },
     "execution_count": 92,
     "metadata": {},
     "output_type": "execute_result"
    }
   ],
   "source": [
    "# RV Discrete\n",
    "\n",
    "x = [0,1,3,5,7]\n",
    "x_p = [0.3,0.25,0.20,0.15,0.1]\n",
    "\n",
    "rv = stats.rv_discrete(values=(x, x_p))\n",
    "\n",
    "# Calculate P(x >= 5)\n",
    "1 - rv.cdf(5) + rv.pmf(5)\n",
    "\n",
    "rv.mean()\n",
    "\n",
    "rv.std()\n",
    "\n",
    "rv.var()"
   ]
  },
  {
   "cell_type": "code",
   "execution_count": 89,
   "id": "a77bb6a5-ba2f-4755-bece-037d4904913d",
   "metadata": {
    "execution": {
     "iopub.execute_input": "2023-10-23T14:32:23.793384Z",
     "iopub.status.busy": "2023-10-23T14:32:23.792678Z",
     "iopub.status.idle": "2023-10-23T14:32:23.821992Z",
     "shell.execute_reply": "2023-10-23T14:32:23.820484Z",
     "shell.execute_reply.started": "2023-10-23T14:32:23.793322Z"
    },
    "tags": []
   },
   "outputs": [
    {
     "name": "stdout",
     "output_type": "stream",
     "text": [
      "The 25th percentile is approximately t = 1.2600999999998777\n"
     ]
    },
    {
     "data": {
      "text/plain": [
       "1.2599210498948732"
      ]
     },
     "execution_count": 89,
     "metadata": {},
     "output_type": "execute_result"
    }
   ],
   "source": [
    "# RV Continuous given CDF\n",
    "\n",
    "def cdf(t):\n",
    "    return 1/8 * t**3\n",
    "\n",
    "# Via simulation\n",
    "target_percentile = 0.25\n",
    "# Initialize t to a reasonable starting point\n",
    "t = 0\n",
    "# Set a small step size for iteration\n",
    "step = 0.0001\n",
    "# Initialize the cumulative probability\n",
    "cumulative_prob = 0\n",
    "# Iterate to find the 25th percentile\n",
    "while cumulative_prob < target_percentile:\n",
    "    cumulative_prob = f(t)\n",
    "    t += step\n",
    "\n",
    "print(f\"The 25th percentile is approximately t = {t}\")\n",
    "\n",
    "# Via formula (cdf is inverse of ppf)\n",
    "def ppf(t):\n",
    "    return (t / (1/8))**(1/3)\n",
    "\n",
    "ppf(target_percentile)"
   ]
  }
 ],
 "metadata": {
  "kernelspec": {
   "display_name": "Python 3 (ipykernel)",
   "language": "python",
   "name": "python3"
  },
  "language_info": {
   "codemirror_mode": {
    "name": "ipython",
    "version": 3
   },
   "file_extension": ".py",
   "mimetype": "text/x-python",
   "name": "python",
   "nbconvert_exporter": "python",
   "pygments_lexer": "ipython3",
   "version": "3.10.12"
  }
 },
 "nbformat": 4,
 "nbformat_minor": 5
}
